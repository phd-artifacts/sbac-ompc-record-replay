{
 "cells": [
  {
   "cell_type": "code",
   "execution_count": 1,
   "metadata": {},
   "outputs": [],
   "source": [
    "\n",
    "# Default locations if parameter not passed\n",
    "benchmark_data_path = \"big_matrix.pkl\"\n"
   ]
  },
  {
   "cell_type": "code",
   "execution_count": 2,
   "metadata": {},
   "outputs": [
    {
     "data": {
      "text/html": [
       "<pre style=\"white-space:pre;overflow-x:auto;line-height:normal;font-family:Menlo,'DejaVu Sans Mono',consolas,'Courier New',monospace\"><span style=\"color: #800080; text-decoration-color: #800080; font-weight: bold\">Index</span><span style=\"font-weight: bold\">([</span><span style=\"color: #008000; text-decoration-color: #008000\">'name'</span>, <span style=\"color: #008000; text-decoration-color: #008000\">'node_count'</span>, <span style=\"color: #008000; text-decoration-color: #008000\">'biggest_matrix'</span>, <span style=\"color: #008000; text-decoration-color: #008000\">'hosts'</span>, <span style=\"color: #008000; text-decoration-color: #008000\">'full_output'</span>,\n",
       "       <span style=\"color: #008000; text-decoration-color: #008000\">'simu_rr'</span>, <span style=\"color: #008000; text-decoration-color: #008000\">'time'</span><span style=\"font-weight: bold\">]</span>,\n",
       "      <span style=\"color: #808000; text-decoration-color: #808000\">dtype</span>=<span style=\"color: #008000; text-decoration-color: #008000\">'object'</span><span style=\"font-weight: bold\">)</span>\n",
       "</pre>\n"
      ],
      "text/plain": [
       "\u001b[1;35mIndex\u001b[0m\u001b[1m(\u001b[0m\u001b[1m[\u001b[0m\u001b[32m'name'\u001b[0m, \u001b[32m'node_count'\u001b[0m, \u001b[32m'biggest_matrix'\u001b[0m, \u001b[32m'hosts'\u001b[0m, \u001b[32m'full_output'\u001b[0m,\n",
       "       \u001b[32m'simu_rr'\u001b[0m, \u001b[32m'time'\u001b[0m\u001b[1m]\u001b[0m,\n",
       "      \u001b[33mdtype\u001b[0m=\u001b[32m'object'\u001b[0m\u001b[1m)\u001b[0m\n"
      ]
     },
     "metadata": {},
     "output_type": "display_data"
    },
    {
     "data": {
      "text/html": [
       "<pre style=\"white-space:pre;overflow-x:auto;line-height:normal;font-family:Menlo,'DejaVu Sans Mono',consolas,'Courier New',monospace\">                    name  node_count  biggest_matrix  \\\n",
       "<span style=\"color: #008080; text-decoration-color: #008080; font-weight: bold\">0</span>             big-matrix         <span style=\"color: #008080; text-decoration-color: #008080; font-weight: bold\">4.0</span>             NaN   \n",
       "<span style=\"color: #008080; text-decoration-color: #008080; font-weight: bold\">1</span>  simulator-matrix-feed         NaN             <span style=\"color: #008080; text-decoration-color: #008080; font-weight: bold\">4.0</span>   \n",
       "<span style=\"color: #008080; text-decoration-color: #008080; font-weight: bold\">2</span>  simulator-matrix-feed         NaN             <span style=\"color: #008080; text-decoration-color: #008080; font-weight: bold\">4.0</span>   \n",
       "\n",
       "                                             hosts  \\\n",
       "<span style=\"color: #008080; text-decoration-color: #008080; font-weight: bold\">0</span>  sorgan-cpu1,sorgan-cpu2,sorgan-cpu3,sorgan-cpu4   \n",
       "<span style=\"color: #008080; text-decoration-color: #008080; font-weight: bold\">1</span>  sorgan-cpu1,sorgan-cpu2,sorgan-cpu3,sorgan-cpu4   \n",
       "<span style=\"color: #008080; text-decoration-color: #008080; font-weight: bold\">2</span>  sorgan-cpu1,sorgan-cpu2,sorgan-cpu3,sorgan-cpu4   \n",
       "\n",
       "                                         full_output  simu_rr       time  \n",
       "<span style=\"color: #008080; text-decoration-color: #008080; font-weight: bold\">0</span>                                                NaN      NaN  <span style=\"color: #008080; text-decoration-color: #008080; font-weight: bold\">55.808040</span>  \n",
       "<span style=\"color: #008080; text-decoration-color: #008080; font-weight: bold\">1</span>  Time Simulation <span style=\"font-weight: bold\">(</span>microseconds<span style=\"font-weight: bold\">)</span> : <span style=\"color: #008080; text-decoration-color: #008080; font-weight: bold\">9351</span> \\nDistan<span style=\"color: #808000; text-decoration-color: #808000\">...</span>      <span style=\"color: #008080; text-decoration-color: #008080; font-weight: bold\">2.0</span>   <span style=\"color: #008080; text-decoration-color: #008080; font-weight: bold\">0.643607</span>  \n",
       "<span style=\"color: #008080; text-decoration-color: #008080; font-weight: bold\">2</span>  Time Simulation <span style=\"font-weight: bold\">(</span>microseconds<span style=\"font-weight: bold\">)</span> : <span style=\"color: #008080; text-decoration-color: #008080; font-weight: bold\">9536</span> \\nDistan<span style=\"color: #808000; text-decoration-color: #808000\">...</span>      <span style=\"color: #008080; text-decoration-color: #008080; font-weight: bold\">3.0</span>   <span style=\"color: #008080; text-decoration-color: #008080; font-weight: bold\">0.822690</span>  \n",
       "</pre>\n"
      ],
      "text/plain": [
       "                    name  node_count  biggest_matrix  \\\n",
       "\u001b[1;36m0\u001b[0m             big-matrix         \u001b[1;36m4.0\u001b[0m             NaN   \n",
       "\u001b[1;36m1\u001b[0m  simulator-matrix-feed         NaN             \u001b[1;36m4.0\u001b[0m   \n",
       "\u001b[1;36m2\u001b[0m  simulator-matrix-feed         NaN             \u001b[1;36m4.0\u001b[0m   \n",
       "\n",
       "                                             hosts  \\\n",
       "\u001b[1;36m0\u001b[0m  sorgan-cpu1,sorgan-cpu2,sorgan-cpu3,sorgan-cpu4   \n",
       "\u001b[1;36m1\u001b[0m  sorgan-cpu1,sorgan-cpu2,sorgan-cpu3,sorgan-cpu4   \n",
       "\u001b[1;36m2\u001b[0m  sorgan-cpu1,sorgan-cpu2,sorgan-cpu3,sorgan-cpu4   \n",
       "\n",
       "                                         full_output  simu_rr       time  \n",
       "\u001b[1;36m0\u001b[0m                                                NaN      NaN  \u001b[1;36m55.808040\u001b[0m  \n",
       "\u001b[1;36m1\u001b[0m  Time Simulation \u001b[1m(\u001b[0mmicroseconds\u001b[1m)\u001b[0m : \u001b[1;36m9351\u001b[0m \\nDistan\u001b[33m...\u001b[0m      \u001b[1;36m2.0\u001b[0m   \u001b[1;36m0.643607\u001b[0m  \n",
       "\u001b[1;36m2\u001b[0m  Time Simulation \u001b[1m(\u001b[0mmicroseconds\u001b[1m)\u001b[0m : \u001b[1;36m9536\u001b[0m \\nDistan\u001b[33m...\u001b[0m      \u001b[1;36m3.0\u001b[0m   \u001b[1;36m0.822690\u001b[0m  \n"
      ]
     },
     "metadata": {},
     "output_type": "display_data"
    },
    {
     "data": {
      "text/html": [
       "<pre style=\"white-space:pre;overflow-x:auto;line-height:normal;font-family:Menlo,'DejaVu Sans Mono',consolas,'Courier New',monospace\">                    name  node_count  biggest_matrix  \\\n",
       "<span style=\"color: #008080; text-decoration-color: #008080; font-weight: bold\">0</span>             big-matrix         <span style=\"color: #008080; text-decoration-color: #008080; font-weight: bold\">4.0</span>             NaN   \n",
       "<span style=\"color: #008080; text-decoration-color: #008080; font-weight: bold\">1</span>  simulator-matrix-feed         NaN             <span style=\"color: #008080; text-decoration-color: #008080; font-weight: bold\">4.0</span>   \n",
       "<span style=\"color: #008080; text-decoration-color: #008080; font-weight: bold\">2</span>  simulator-matrix-feed         NaN             <span style=\"color: #008080; text-decoration-color: #008080; font-weight: bold\">4.0</span>   \n",
       "\n",
       "                                             hosts  \\\n",
       "<span style=\"color: #008080; text-decoration-color: #008080; font-weight: bold\">0</span>  sorgan-cpu1,sorgan-cpu2,sorgan-cpu3,sorgan-cpu4   \n",
       "<span style=\"color: #008080; text-decoration-color: #008080; font-weight: bold\">1</span>  sorgan-cpu1,sorgan-cpu2,sorgan-cpu3,sorgan-cpu4   \n",
       "<span style=\"color: #008080; text-decoration-color: #008080; font-weight: bold\">2</span>  sorgan-cpu1,sorgan-cpu2,sorgan-cpu3,sorgan-cpu4   \n",
       "\n",
       "                                         full_output  simu_rr       time  \n",
       "<span style=\"color: #008080; text-decoration-color: #008080; font-weight: bold\">0</span>                                                NaN      NaN  <span style=\"color: #008080; text-decoration-color: #008080; font-weight: bold\">55.808040</span>  \n",
       "<span style=\"color: #008080; text-decoration-color: #008080; font-weight: bold\">1</span>  Time Simulation <span style=\"font-weight: bold\">(</span>microseconds<span style=\"font-weight: bold\">)</span> : <span style=\"color: #008080; text-decoration-color: #008080; font-weight: bold\">9351</span> \\nDistan<span style=\"color: #808000; text-decoration-color: #808000\">...</span>      <span style=\"color: #008080; text-decoration-color: #008080; font-weight: bold\">2.0</span>   <span style=\"color: #008080; text-decoration-color: #008080; font-weight: bold\">0.643607</span>  \n",
       "<span style=\"color: #008080; text-decoration-color: #008080; font-weight: bold\">2</span>  Time Simulation <span style=\"font-weight: bold\">(</span>microseconds<span style=\"font-weight: bold\">)</span> : <span style=\"color: #008080; text-decoration-color: #008080; font-weight: bold\">9536</span> \\nDistan<span style=\"color: #808000; text-decoration-color: #808000\">...</span>      <span style=\"color: #008080; text-decoration-color: #008080; font-weight: bold\">3.0</span>   <span style=\"color: #008080; text-decoration-color: #008080; font-weight: bold\">0.822690</span>  \n",
       "</pre>\n"
      ],
      "text/plain": [
       "                    name  node_count  biggest_matrix  \\\n",
       "\u001b[1;36m0\u001b[0m             big-matrix         \u001b[1;36m4.0\u001b[0m             NaN   \n",
       "\u001b[1;36m1\u001b[0m  simulator-matrix-feed         NaN             \u001b[1;36m4.0\u001b[0m   \n",
       "\u001b[1;36m2\u001b[0m  simulator-matrix-feed         NaN             \u001b[1;36m4.0\u001b[0m   \n",
       "\n",
       "                                             hosts  \\\n",
       "\u001b[1;36m0\u001b[0m  sorgan-cpu1,sorgan-cpu2,sorgan-cpu3,sorgan-cpu4   \n",
       "\u001b[1;36m1\u001b[0m  sorgan-cpu1,sorgan-cpu2,sorgan-cpu3,sorgan-cpu4   \n",
       "\u001b[1;36m2\u001b[0m  sorgan-cpu1,sorgan-cpu2,sorgan-cpu3,sorgan-cpu4   \n",
       "\n",
       "                                         full_output  simu_rr       time  \n",
       "\u001b[1;36m0\u001b[0m                                                NaN      NaN  \u001b[1;36m55.808040\u001b[0m  \n",
       "\u001b[1;36m1\u001b[0m  Time Simulation \u001b[1m(\u001b[0mmicroseconds\u001b[1m)\u001b[0m : \u001b[1;36m9351\u001b[0m \\nDistan\u001b[33m...\u001b[0m      \u001b[1;36m2.0\u001b[0m   \u001b[1;36m0.643607\u001b[0m  \n",
       "\u001b[1;36m2\u001b[0m  Time Simulation \u001b[1m(\u001b[0mmicroseconds\u001b[1m)\u001b[0m : \u001b[1;36m9536\u001b[0m \\nDistan\u001b[33m...\u001b[0m      \u001b[1;36m3.0\u001b[0m   \u001b[1;36m0.822690\u001b[0m  \n"
      ]
     },
     "metadata": {},
     "output_type": "display_data"
    }
   ],
   "source": [
    "import pandas as pd\n",
    "import numpy as np\n",
    "import matplotlib.pyplot as plt\n",
    "import pickle\n",
    "from rich import print as rprint\n",
    "import seaborn as sns\n",
    "import os\n",
    "from scipy.stats import bootstrap\n",
    "\n",
    "benchmark_data = pickle.load(open(benchmark_data_path, \"rb\"))\n",
    "\n",
    "df = pd.DataFrame(benchmark_data[\"dataframe\"])\n",
    "\n",
    "\n",
    "rprint(df.columns)\n",
    "rprint(df.head())\n",
    "rprint(df.tail())"
   ]
  },
  {
   "cell_type": "code",
   "execution_count": 3,
   "metadata": {},
   "outputs": [],
   "source": [
    "sns.set_theme()\n",
    "\n",
    "colors = [\n",
    "    \"#7f7f7f\",  # grey\n",
    "    \"#621dac\",  # main purple\n",
    "    \"#c5702d\",  # orange\n",
    "    \"#000000\",  # black,\n",
    "    \"#099892\",  # teal\n",
    "    \"#ffd400\",  # yellow\n",
    "    \"#7e57c4\",  # pink/purple,\n",
    "]\n",
    "colors_backup = colors.copy()"
   ]
  },
  {
   "cell_type": "code",
   "execution_count": 4,
   "metadata": {},
   "outputs": [],
   "source": [
    "def calculate_bootstrap_error(data):\n",
    "    n_runs = benchmark_data[\"config\"].metadata.runs\n",
    "    if n_runs < 2:\n",
    "        return 0\n",
    "    res = bootstrap(\n",
    "        (data,), np.mean, confidence_level=0.95, n_resamples=1000, method=\"basic\"\n",
    "    )\n",
    "    return res.standard_error"
   ]
  },
  {
   "cell_type": "code",
   "execution_count": 5,
   "metadata": {},
   "outputs": [
    {
     "name": "stdout",
     "output_type": "stream",
     "text": [
      "Benchmark: big-matrix - Runs: 1\n",
      "--- Row 0 ---\n",
      "name: big-matrix\n",
      "node_count: 4.0\n",
      "biggest_matrix: nan\n",
      "hosts: sorgan-cpu1,sorgan-cpu2,sorgan-cpu3,sorgan-cpu4\n",
      "full_output: nan\n",
      "simu_rr: nan\n",
      "time: 55.80804026708938\n",
      "\n",
      "Benchmark: simulator-matrix-feed - Runs: 1\n",
      "--- Row 1 ---\n",
      "name: simulator-matrix-feed\n",
      "node_count: nan\n",
      "biggest_matrix: 4.0\n",
      "hosts: sorgan-cpu1,sorgan-cpu2,sorgan-cpu3,sorgan-cpu4\n",
      "full_output: Time Simulation (microseconds) : 9351 \n",
      "Distance : 0.286624\n",
      "\n",
      "\n",
      "simu_rr: 2.0\n",
      "time: 0.6436067139729857\n",
      "\n",
      "--- Row 2 ---\n",
      "name: simulator-matrix-feed\n",
      "node_count: nan\n",
      "biggest_matrix: 4.0\n",
      "hosts: sorgan-cpu1,sorgan-cpu2,sorgan-cpu3,sorgan-cpu4\n",
      "full_output: Time Simulation (microseconds) : 9536 \n",
      "Distance : 0\n",
      "\n",
      "\n",
      "simu_rr: 3.0\n",
      "time: 0.8226896610576659\n",
      "\n",
      "Max node count: 4\n"
     ]
    }
   ],
   "source": [
    "bench_names = df[\"name\"].unique()\n",
    "run_metadata = benchmark_data[\"config\"].applications\n",
    "\n",
    "max_node_count = 0\n",
    "\n",
    "for bench in bench_names:\n",
    "    bench_metadata = run_metadata[bench]\n",
    "    n_runs = benchmark_data[\"config\"].metadata.runs\n",
    "    print(f\"Benchmark: {bench} - Runs: {n_runs}\")\n",
    "    # print(bench_metadata)\n",
    "    df_bench = df[df[\"name\"] == bench]\n",
    "    for idx, row in df_bench.iterrows():\n",
    "        print(f\"--- Row {idx} ---\")\n",
    "        if \"node_count\" in row:\n",
    "            node_count = row[\"node_count\"]\n",
    "            if node_count > max_node_count:\n",
    "                max_node_count = node_count\n",
    "        for col, val in row.items():\n",
    "            print(f\"{col}: {val}\")   # printing val directly never truncates\n",
    "        print()\n",
    "\n",
    "max_node_count = int(max_node_count)\n",
    "print(f\"Max node count: {max_node_count}\")"
   ]
  },
  {
   "cell_type": "markdown",
   "metadata": {},
   "source": [
    "# Experiment 1\n",
    "x-axis: SIM_RR\n",
    "y_axis: distance "
   ]
  },
  {
   "cell_type": "code",
   "execution_count": 6,
   "metadata": {},
   "outputs": [],
   "source": [
    "import re\n",
    "import numpy as np\n",
    "import seaborn as sns\n",
    "import matplotlib.pyplot as plt\n",
    "\n",
    "def extract_distance(text):\n",
    "    matches = re.findall(\n",
    "        r\"Distance\\s*:\\s*([-+]?(?:\\d*\\.\\d+|\\d+)(?:[eE][-+]?\\d+)?)\",\n",
    "        str(text)\n",
    "    )\n",
    "    return float(matches[-1]) if matches else np.nan"
   ]
  },
  {
   "cell_type": "code",
   "execution_count": 7,
   "metadata": {},
   "outputs": [],
   "source": [
    "df_dist = df[df[\"name\"] == \"simulator-matrix-feed\"].copy()\n",
    "df_dist[\"distance\"] = df_dist[\"full_output\"].apply(extract_distance)\n",
    "df_dist = df_dist[[\"simu_rr\", \"distance\"]]"
   ]
  },
  {
   "cell_type": "code",
   "execution_count": 8,
   "metadata": {},
   "outputs": [
    {
     "data": {
      "image/png": "[encoded data removed]",
      "text/plain": [
       "<Figure size 640x480 with 1 Axes>"
      ]
     },
     "metadata": {},
     "output_type": "display_data"
    }
   ],
   "source": [
    "plt.figure()\n",
    "sns.lineplot(\n",
    "  data=df_dist,\n",
    "  x=\"simu_rr\",\n",
    "  y=\"distance\",\n",
    "  marker=\"o\",\n",
    "  errorbar=\"ci\",\n",
    ")\n",
    "\n",
    "plt.xlabel(\"Initial Interpolation (Offsetted Round-Robin)\")\n",
    "plt.ylabel(\"Output Error (NRMSE)\")\n",
    "#plt.title(f\"Simulation Distance per Simulation RR using Matrix trace for {max_node_count-1} workers\")\n",
    "plt.grid(True)\n",
    "plt.xticks(sorted(df_dist[\"simu_rr\"].unique()))\n",
    "plt.tight_layout()\n",
    "plt.show()"
   ]
  }
 ],
 "metadata": {
  "kernelspec": {
   "display_name": "Python 3 (ipykernel)",
   "language": "python",
   "name": "python3"
  },
  "language_info": {
   "codemirror_mode": {
    "name": "ipython",
    "version": 3
   },
   "file_extension": ".py",
   "mimetype": "text/x-python",
   "name": "python",
   "nbconvert_exporter": "python",
   "pygments_lexer": "ipython3",
   "version": "3.12.3"
  }
 },
 "nbformat": 4,
 "nbformat_minor": 4
}
