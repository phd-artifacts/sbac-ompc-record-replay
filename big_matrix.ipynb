{
 "cells": [
  {
   "cell_type": "code",
   "execution_count": 2,
   "metadata": {},
   "outputs": [],
   "source": [
    "\n",
    "# Default locations if parameter not passed\n",
    "benchmark_data_path = \"pkl/big-matrix-coaraci-345430.pkl\"\n"
   ]
  },
  {
   "cell_type": "code",
   "execution_count": 3,
   "metadata": {},
   "outputs": [
    {
     "data": {
      "text/html": [
       "<pre style=\"white-space:pre;overflow-x:auto;line-height:normal;font-family:Menlo,'DejaVu Sans Mono',consolas,'Courier New',monospace\"><span style=\"color: #800080; text-decoration-color: #800080; font-weight: bold\">Index</span><span style=\"font-weight: bold\">([</span><span style=\"color: #008000; text-decoration-color: #008000\">'name'</span>, <span style=\"color: #008000; text-decoration-color: #008000\">'full_output'</span>, <span style=\"color: #008000; text-decoration-color: #008000\">'simu_rr'</span>, <span style=\"color: #008000; text-decoration-color: #008000\">'hosts'</span>, <span style=\"color: #008000; text-decoration-color: #008000\">'node_count'</span>,\n",
       "       <span style=\"color: #008000; text-decoration-color: #008000\">'biggest_matrix'</span>, <span style=\"color: #008000; text-decoration-color: #008000\">'time'</span><span style=\"font-weight: bold\">]</span>,\n",
       "      <span style=\"color: #808000; text-decoration-color: #808000\">dtype</span>=<span style=\"color: #008000; text-decoration-color: #008000\">'object'</span><span style=\"font-weight: bold\">)</span>\n",
       "</pre>\n"
      ],
      "text/plain": [
       "\u001b[1;35mIndex\u001b[0m\u001b[1m(\u001b[0m\u001b[1m[\u001b[0m\u001b[32m'name'\u001b[0m, \u001b[32m'full_output'\u001b[0m, \u001b[32m'simu_rr'\u001b[0m, \u001b[32m'hosts'\u001b[0m, \u001b[32m'node_count'\u001b[0m,\n",
       "       \u001b[32m'biggest_matrix'\u001b[0m, \u001b[32m'time'\u001b[0m\u001b[1m]\u001b[0m,\n",
       "      \u001b[33mdtype\u001b[0m=\u001b[32m'object'\u001b[0m\u001b[1m)\u001b[0m\n"
      ]
     },
     "metadata": {},
     "output_type": "display_data"
    },
    {
     "data": {
      "text/html": [
       "<pre style=\"white-space:pre;overflow-x:auto;line-height:normal;font-family:Menlo,'DejaVu Sans Mono',consolas,'Courier New',monospace\">                    name                                        full_output  \\\n",
       "<span style=\"color: #008080; text-decoration-color: #008080; font-weight: bold\">0</span>             big-matrix                                                NaN   \n",
       "<span style=\"color: #008080; text-decoration-color: #008080; font-weight: bold\">1</span>  simulator-matrix-feed  Time Simulation <span style=\"font-weight: bold\">(</span>microseconds<span style=\"font-weight: bold\">)</span> : <span style=\"color: #008080; text-decoration-color: #008080; font-weight: bold\">8167</span> \\nDistan<span style=\"color: #808000; text-decoration-color: #808000\">...</span>   \n",
       "<span style=\"color: #008080; text-decoration-color: #008080; font-weight: bold\">2</span>  simulator-matrix-feed  Time Simulation <span style=\"font-weight: bold\">(</span>microseconds<span style=\"font-weight: bold\">)</span> : <span style=\"color: #008080; text-decoration-color: #008080; font-weight: bold\">9148</span> \\nDistan<span style=\"color: #808000; text-decoration-color: #808000\">...</span>   \n",
       "<span style=\"color: #008080; text-decoration-color: #008080; font-weight: bold\">3</span>  simulator-matrix-feed  Time Simulation <span style=\"font-weight: bold\">(</span>microseconds<span style=\"font-weight: bold\">)</span> : <span style=\"color: #008080; text-decoration-color: #008080; font-weight: bold\">11831</span> \\nDista<span style=\"color: #808000; text-decoration-color: #808000\">...</span>   \n",
       "<span style=\"color: #008080; text-decoration-color: #008080; font-weight: bold\">4</span>  simulator-matrix-feed  Time Simulation <span style=\"font-weight: bold\">(</span>microseconds<span style=\"font-weight: bold\">)</span> : <span style=\"color: #008080; text-decoration-color: #008080; font-weight: bold\">10395</span> \\nDista<span style=\"color: #808000; text-decoration-color: #808000\">...</span>   \n",
       "\n",
       "   simu_rr                                              hosts  node_count  \\\n",
       "<span style=\"color: #008080; text-decoration-color: #008080; font-weight: bold\">0</span>      NaN  r2n48,r2n49,r2n50,r3n06,r3n07,r3n08,r3n09,r3n1<span style=\"color: #808000; text-decoration-color: #808000\">...</span>        <span style=\"color: #008080; text-decoration-color: #008080; font-weight: bold\">10.0</span>   \n",
       "<span style=\"color: #008080; text-decoration-color: #008080; font-weight: bold\">1</span>      <span style=\"color: #008080; text-decoration-color: #008080; font-weight: bold\">2.0</span>  r2n48,r2n49,r2n50,r3n06,r3n07,r3n08,r3n09,r3n1<span style=\"color: #808000; text-decoration-color: #808000\">...</span>         NaN   \n",
       "<span style=\"color: #008080; text-decoration-color: #008080; font-weight: bold\">2</span>      <span style=\"color: #008080; text-decoration-color: #008080; font-weight: bold\">3.0</span>  r2n48,r2n49,r2n50,r3n06,r3n07,r3n08,r3n09,r3n1<span style=\"color: #808000; text-decoration-color: #808000\">...</span>         NaN   \n",
       "<span style=\"color: #008080; text-decoration-color: #008080; font-weight: bold\">3</span>      <span style=\"color: #008080; text-decoration-color: #008080; font-weight: bold\">4.0</span>  r2n48,r2n49,r2n50,r3n06,r3n07,r3n08,r3n09,r3n1<span style=\"color: #808000; text-decoration-color: #808000\">...</span>         NaN   \n",
       "<span style=\"color: #008080; text-decoration-color: #008080; font-weight: bold\">4</span>      <span style=\"color: #008080; text-decoration-color: #008080; font-weight: bold\">5.0</span>  r2n48,r2n49,r2n50,r3n06,r3n07,r3n08,r3n09,r3n1<span style=\"color: #808000; text-decoration-color: #808000\">...</span>         NaN   \n",
       "\n",
       "   biggest_matrix       time  \n",
       "<span style=\"color: #008080; text-decoration-color: #008080; font-weight: bold\">0</span>             NaN  <span style=\"color: #008080; text-decoration-color: #008080; font-weight: bold\">35.966669</span>  \n",
       "<span style=\"color: #008080; text-decoration-color: #008080; font-weight: bold\">1</span>            <span style=\"color: #008080; text-decoration-color: #008080; font-weight: bold\">10.0</span>   <span style=\"color: #008080; text-decoration-color: #008080; font-weight: bold\">0.787066</span>  \n",
       "<span style=\"color: #008080; text-decoration-color: #008080; font-weight: bold\">2</span>            <span style=\"color: #008080; text-decoration-color: #008080; font-weight: bold\">10.0</span>   <span style=\"color: #008080; text-decoration-color: #008080; font-weight: bold\">0.490982</span>  \n",
       "<span style=\"color: #008080; text-decoration-color: #008080; font-weight: bold\">3</span>            <span style=\"color: #008080; text-decoration-color: #008080; font-weight: bold\">10.0</span>   <span style=\"color: #008080; text-decoration-color: #008080; font-weight: bold\">0.540966</span>  \n",
       "<span style=\"color: #008080; text-decoration-color: #008080; font-weight: bold\">4</span>            <span style=\"color: #008080; text-decoration-color: #008080; font-weight: bold\">10.0</span>   <span style=\"color: #008080; text-decoration-color: #008080; font-weight: bold\">0.604206</span>  \n",
       "</pre>\n"
      ],
      "text/plain": [
       "                    name                                        full_output  \\\n",
       "\u001b[1;36m0\u001b[0m             big-matrix                                                NaN   \n",
       "\u001b[1;36m1\u001b[0m  simulator-matrix-feed  Time Simulation \u001b[1m(\u001b[0mmicroseconds\u001b[1m)\u001b[0m : \u001b[1;36m8167\u001b[0m \\nDistan\u001b[33m...\u001b[0m   \n",
       "\u001b[1;36m2\u001b[0m  simulator-matrix-feed  Time Simulation \u001b[1m(\u001b[0mmicroseconds\u001b[1m)\u001b[0m : \u001b[1;36m9148\u001b[0m \\nDistan\u001b[33m...\u001b[0m   \n",
       "\u001b[1;36m3\u001b[0m  simulator-matrix-feed  Time Simulation \u001b[1m(\u001b[0mmicroseconds\u001b[1m)\u001b[0m : \u001b[1;36m11831\u001b[0m \\nDista\u001b[33m...\u001b[0m   \n",
       "\u001b[1;36m4\u001b[0m  simulator-matrix-feed  Time Simulation \u001b[1m(\u001b[0mmicroseconds\u001b[1m)\u001b[0m : \u001b[1;36m10395\u001b[0m \\nDista\u001b[33m...\u001b[0m   \n",
       "\n",
       "   simu_rr                                              hosts  node_count  \\\n",
       "\u001b[1;36m0\u001b[0m      NaN  r2n48,r2n49,r2n50,r3n06,r3n07,r3n08,r3n09,r3n1\u001b[33m...\u001b[0m        \u001b[1;36m10.0\u001b[0m   \n",
       "\u001b[1;36m1\u001b[0m      \u001b[1;36m2.0\u001b[0m  r2n48,r2n49,r2n50,r3n06,r3n07,r3n08,r3n09,r3n1\u001b[33m...\u001b[0m         NaN   \n",
       "\u001b[1;36m2\u001b[0m      \u001b[1;36m3.0\u001b[0m  r2n48,r2n49,r2n50,r3n06,r3n07,r3n08,r3n09,r3n1\u001b[33m...\u001b[0m         NaN   \n",
       "\u001b[1;36m3\u001b[0m      \u001b[1;36m4.0\u001b[0m  r2n48,r2n49,r2n50,r3n06,r3n07,r3n08,r3n09,r3n1\u001b[33m...\u001b[0m         NaN   \n",
       "\u001b[1;36m4\u001b[0m      \u001b[1;36m5.0\u001b[0m  r2n48,r2n49,r2n50,r3n06,r3n07,r3n08,r3n09,r3n1\u001b[33m...\u001b[0m         NaN   \n",
       "\n",
       "   biggest_matrix       time  \n",
       "\u001b[1;36m0\u001b[0m             NaN  \u001b[1;36m35.966669\u001b[0m  \n",
       "\u001b[1;36m1\u001b[0m            \u001b[1;36m10.0\u001b[0m   \u001b[1;36m0.787066\u001b[0m  \n",
       "\u001b[1;36m2\u001b[0m            \u001b[1;36m10.0\u001b[0m   \u001b[1;36m0.490982\u001b[0m  \n",
       "\u001b[1;36m3\u001b[0m            \u001b[1;36m10.0\u001b[0m   \u001b[1;36m0.540966\u001b[0m  \n",
       "\u001b[1;36m4\u001b[0m            \u001b[1;36m10.0\u001b[0m   \u001b[1;36m0.604206\u001b[0m  \n"
      ]
     },
     "metadata": {},
     "output_type": "display_data"
    },
    {
     "data": {
      "text/html": [
       "<pre style=\"white-space:pre;overflow-x:auto;line-height:normal;font-family:Menlo,'DejaVu Sans Mono',consolas,'Courier New',monospace\">                    name                                        full_output  \\\n",
       "<span style=\"color: #008080; text-decoration-color: #008080; font-weight: bold\">4</span>  simulator-matrix-feed  Time Simulation <span style=\"font-weight: bold\">(</span>microseconds<span style=\"font-weight: bold\">)</span> : <span style=\"color: #008080; text-decoration-color: #008080; font-weight: bold\">10395</span> \\nDista<span style=\"color: #808000; text-decoration-color: #808000\">...</span>   \n",
       "<span style=\"color: #008080; text-decoration-color: #008080; font-weight: bold\">5</span>  simulator-matrix-feed  Time Simulation <span style=\"font-weight: bold\">(</span>microseconds<span style=\"font-weight: bold\">)</span> : <span style=\"color: #008080; text-decoration-color: #008080; font-weight: bold\">11001</span> \\nDista<span style=\"color: #808000; text-decoration-color: #808000\">...</span>   \n",
       "<span style=\"color: #008080; text-decoration-color: #008080; font-weight: bold\">6</span>  simulator-matrix-feed  Time Simulation <span style=\"font-weight: bold\">(</span>microseconds<span style=\"font-weight: bold\">)</span> : <span style=\"color: #008080; text-decoration-color: #008080; font-weight: bold\">13361</span> \\nDista<span style=\"color: #808000; text-decoration-color: #808000\">...</span>   \n",
       "<span style=\"color: #008080; text-decoration-color: #008080; font-weight: bold\">7</span>  simulator-matrix-feed  Time Simulation <span style=\"font-weight: bold\">(</span>microseconds<span style=\"font-weight: bold\">)</span> : <span style=\"color: #008080; text-decoration-color: #008080; font-weight: bold\">11298</span> \\nDista<span style=\"color: #808000; text-decoration-color: #808000\">...</span>   \n",
       "<span style=\"color: #008080; text-decoration-color: #008080; font-weight: bold\">8</span>  simulator-matrix-feed  Time Simulation <span style=\"font-weight: bold\">(</span>microseconds<span style=\"font-weight: bold\">)</span> : <span style=\"color: #008080; text-decoration-color: #008080; font-weight: bold\">11713</span> \\nDista<span style=\"color: #808000; text-decoration-color: #808000\">...</span>   \n",
       "\n",
       "   simu_rr                                              hosts  node_count  \\\n",
       "<span style=\"color: #008080; text-decoration-color: #008080; font-weight: bold\">4</span>      <span style=\"color: #008080; text-decoration-color: #008080; font-weight: bold\">5.0</span>  r2n48,r2n49,r2n50,r3n06,r3n07,r3n08,r3n09,r3n1<span style=\"color: #808000; text-decoration-color: #808000\">...</span>         NaN   \n",
       "<span style=\"color: #008080; text-decoration-color: #008080; font-weight: bold\">5</span>      <span style=\"color: #008080; text-decoration-color: #008080; font-weight: bold\">6.0</span>  r2n48,r2n49,r2n50,r3n06,r3n07,r3n08,r3n09,r3n1<span style=\"color: #808000; text-decoration-color: #808000\">...</span>         NaN   \n",
       "<span style=\"color: #008080; text-decoration-color: #008080; font-weight: bold\">6</span>      <span style=\"color: #008080; text-decoration-color: #008080; font-weight: bold\">7.0</span>  r2n48,r2n49,r2n50,r3n06,r3n07,r3n08,r3n09,r3n1<span style=\"color: #808000; text-decoration-color: #808000\">...</span>         NaN   \n",
       "<span style=\"color: #008080; text-decoration-color: #008080; font-weight: bold\">7</span>      <span style=\"color: #008080; text-decoration-color: #008080; font-weight: bold\">8.0</span>  r2n48,r2n49,r2n50,r3n06,r3n07,r3n08,r3n09,r3n1<span style=\"color: #808000; text-decoration-color: #808000\">...</span>         NaN   \n",
       "<span style=\"color: #008080; text-decoration-color: #008080; font-weight: bold\">8</span>      <span style=\"color: #008080; text-decoration-color: #008080; font-weight: bold\">9.0</span>  r2n48,r2n49,r2n50,r3n06,r3n07,r3n08,r3n09,r3n1<span style=\"color: #808000; text-decoration-color: #808000\">...</span>         NaN   \n",
       "\n",
       "   biggest_matrix      time  \n",
       "<span style=\"color: #008080; text-decoration-color: #008080; font-weight: bold\">4</span>            <span style=\"color: #008080; text-decoration-color: #008080; font-weight: bold\">10.0</span>  <span style=\"color: #008080; text-decoration-color: #008080; font-weight: bold\">0.604206</span>  \n",
       "<span style=\"color: #008080; text-decoration-color: #008080; font-weight: bold\">5</span>            <span style=\"color: #008080; text-decoration-color: #008080; font-weight: bold\">10.0</span>  <span style=\"color: #008080; text-decoration-color: #008080; font-weight: bold\">0.662863</span>  \n",
       "<span style=\"color: #008080; text-decoration-color: #008080; font-weight: bold\">6</span>            <span style=\"color: #008080; text-decoration-color: #008080; font-weight: bold\">10.0</span>  <span style=\"color: #008080; text-decoration-color: #008080; font-weight: bold\">0.731330</span>  \n",
       "<span style=\"color: #008080; text-decoration-color: #008080; font-weight: bold\">7</span>            <span style=\"color: #008080; text-decoration-color: #008080; font-weight: bold\">10.0</span>  <span style=\"color: #008080; text-decoration-color: #008080; font-weight: bold\">0.769783</span>  \n",
       "<span style=\"color: #008080; text-decoration-color: #008080; font-weight: bold\">8</span>            <span style=\"color: #008080; text-decoration-color: #008080; font-weight: bold\">10.0</span>  <span style=\"color: #008080; text-decoration-color: #008080; font-weight: bold\">0.835308</span>  \n",
       "</pre>\n"
      ],
      "text/plain": [
       "                    name                                        full_output  \\\n",
       "\u001b[1;36m4\u001b[0m  simulator-matrix-feed  Time Simulation \u001b[1m(\u001b[0mmicroseconds\u001b[1m)\u001b[0m : \u001b[1;36m10395\u001b[0m \\nDista\u001b[33m...\u001b[0m   \n",
       "\u001b[1;36m5\u001b[0m  simulator-matrix-feed  Time Simulation \u001b[1m(\u001b[0mmicroseconds\u001b[1m)\u001b[0m : \u001b[1;36m11001\u001b[0m \\nDista\u001b[33m...\u001b[0m   \n",
       "\u001b[1;36m6\u001b[0m  simulator-matrix-feed  Time Simulation \u001b[1m(\u001b[0mmicroseconds\u001b[1m)\u001b[0m : \u001b[1;36m13361\u001b[0m \\nDista\u001b[33m...\u001b[0m   \n",
       "\u001b[1;36m7\u001b[0m  simulator-matrix-feed  Time Simulation \u001b[1m(\u001b[0mmicroseconds\u001b[1m)\u001b[0m : \u001b[1;36m11298\u001b[0m \\nDista\u001b[33m...\u001b[0m   \n",
       "\u001b[1;36m8\u001b[0m  simulator-matrix-feed  Time Simulation \u001b[1m(\u001b[0mmicroseconds\u001b[1m)\u001b[0m : \u001b[1;36m11713\u001b[0m \\nDista\u001b[33m...\u001b[0m   \n",
       "\n",
       "   simu_rr                                              hosts  node_count  \\\n",
       "\u001b[1;36m4\u001b[0m      \u001b[1;36m5.0\u001b[0m  r2n48,r2n49,r2n50,r3n06,r3n07,r3n08,r3n09,r3n1\u001b[33m...\u001b[0m         NaN   \n",
       "\u001b[1;36m5\u001b[0m      \u001b[1;36m6.0\u001b[0m  r2n48,r2n49,r2n50,r3n06,r3n07,r3n08,r3n09,r3n1\u001b[33m...\u001b[0m         NaN   \n",
       "\u001b[1;36m6\u001b[0m      \u001b[1;36m7.0\u001b[0m  r2n48,r2n49,r2n50,r3n06,r3n07,r3n08,r3n09,r3n1\u001b[33m...\u001b[0m         NaN   \n",
       "\u001b[1;36m7\u001b[0m      \u001b[1;36m8.0\u001b[0m  r2n48,r2n49,r2n50,r3n06,r3n07,r3n08,r3n09,r3n1\u001b[33m...\u001b[0m         NaN   \n",
       "\u001b[1;36m8\u001b[0m      \u001b[1;36m9.0\u001b[0m  r2n48,r2n49,r2n50,r3n06,r3n07,r3n08,r3n09,r3n1\u001b[33m...\u001b[0m         NaN   \n",
       "\n",
       "   biggest_matrix      time  \n",
       "\u001b[1;36m4\u001b[0m            \u001b[1;36m10.0\u001b[0m  \u001b[1;36m0.604206\u001b[0m  \n",
       "\u001b[1;36m5\u001b[0m            \u001b[1;36m10.0\u001b[0m  \u001b[1;36m0.662863\u001b[0m  \n",
       "\u001b[1;36m6\u001b[0m            \u001b[1;36m10.0\u001b[0m  \u001b[1;36m0.731330\u001b[0m  \n",
       "\u001b[1;36m7\u001b[0m            \u001b[1;36m10.0\u001b[0m  \u001b[1;36m0.769783\u001b[0m  \n",
       "\u001b[1;36m8\u001b[0m            \u001b[1;36m10.0\u001b[0m  \u001b[1;36m0.835308\u001b[0m  \n"
      ]
     },
     "metadata": {},
     "output_type": "display_data"
    }
   ],
   "source": [
    "import pandas as pd\n",
    "import numpy as np\n",
    "import matplotlib.pyplot as plt\n",
    "import pickle\n",
    "from rich import print as rprint\n",
    "import seaborn as sns\n",
    "import os\n",
    "from scipy.stats import bootstrap\n",
    "\n",
    "benchmark_data = pickle.load(open(benchmark_data_path, \"rb\"))\n",
    "\n",
    "df = pd.DataFrame(benchmark_data[\"dataframe\"])\n",
    "\n",
    "\n",
    "rprint(df.columns)\n",
    "rprint(df.head())\n",
    "rprint(df.tail())"
   ]
  },
  {
   "cell_type": "code",
   "execution_count": 4,
   "metadata": {},
   "outputs": [],
   "source": [
    "sns.set_theme()\n",
    "\n",
    "colors = [\n",
    "    \"#7f7f7f\",  # grey\n",
    "    \"#621dac\",  # main purple\n",
    "    \"#c5702d\",  # orange\n",
    "    \"#000000\",  # black,\n",
    "    \"#099892\",  # teal\n",
    "    \"#ffd400\",  # yellow\n",
    "    \"#7e57c4\",  # pink/purple,\n",
    "]\n",
    "colors_backup = colors.copy()"
   ]
  },
  {
   "cell_type": "code",
   "execution_count": 5,
   "metadata": {},
   "outputs": [],
   "source": [
    "def calculate_bootstrap_error(data):\n",
    "    n_runs = benchmark_data[\"config\"].metadata.runs\n",
    "    if n_runs < 2:\n",
    "        return 0\n",
    "    res = bootstrap(\n",
    "        (data,), np.mean, confidence_level=0.95, n_resamples=1000, method=\"basic\"\n",
    "    )\n",
    "    return res.standard_error"
   ]
  },
  {
   "cell_type": "code",
   "execution_count": 6,
   "metadata": {},
   "outputs": [
    {
     "name": "stdout",
     "output_type": "stream",
     "text": [
      "Benchmark: big-matrix - Runs: 1\n",
      "--- Row 0 ---\n",
      "name: big-matrix\n",
      "full_output: nan\n",
      "simu_rr: nan\n",
      "hosts: r2n48,r2n49,r2n50,r3n06,r3n07,r3n08,r3n09,r3n10,r3n11,r3n12\n",
      "node_count: 10.0\n",
      "biggest_matrix: nan\n",
      "time: 35.9666685750708\n",
      "\n",
      "Benchmark: simulator-matrix-feed - Runs: 1\n",
      "--- Row 1 ---\n",
      "name: simulator-matrix-feed\n",
      "full_output: Time Simulation (microseconds) : 8167 \n",
      "Distance : 0.312848\n",
      "\n",
      "WARNING: Could not find any nv files on this host!\n",
      "\n",
      "simu_rr: 2.0\n",
      "hosts: r2n48,r2n49,r2n50,r3n06,r3n07,r3n08,r3n09,r3n10,r3n11,r3n12\n",
      "node_count: nan\n",
      "biggest_matrix: 10.0\n",
      "time: 0.787066260818392\n",
      "\n",
      "--- Row 2 ---\n",
      "name: simulator-matrix-feed\n",
      "full_output: Time Simulation (microseconds) : 9148 \n",
      "Distance : 0.273628\n",
      "\n",
      "WARNING: Could not find any nv files on this host!\n",
      "\n",
      "simu_rr: 3.0\n",
      "hosts: r2n48,r2n49,r2n50,r3n06,r3n07,r3n08,r3n09,r3n10,r3n11,r3n12\n",
      "node_count: nan\n",
      "biggest_matrix: 10.0\n",
      "time: 0.490982451941818\n",
      "\n",
      "--- Row 3 ---\n",
      "name: simulator-matrix-feed\n",
      "full_output: Time Simulation (microseconds) : 11831 \n",
      "Distance : 0.242508\n",
      "\n",
      "WARNING: Could not find any nv files on this host!\n",
      "\n",
      "simu_rr: 4.0\n",
      "hosts: r2n48,r2n49,r2n50,r3n06,r3n07,r3n08,r3n09,r3n10,r3n11,r3n12\n",
      "node_count: nan\n",
      "biggest_matrix: 10.0\n",
      "time: 0.5409657447598875\n",
      "\n",
      "--- Row 4 ---\n",
      "name: simulator-matrix-feed\n",
      "full_output: Time Simulation (microseconds) : 10395 \n",
      "Distance : 0.212944\n",
      "\n",
      "WARNING: Could not find any nv files on this host!\n",
      "\n",
      "simu_rr: 5.0\n",
      "hosts: r2n48,r2n49,r2n50,r3n06,r3n07,r3n08,r3n09,r3n10,r3n11,r3n12\n",
      "node_count: nan\n",
      "biggest_matrix: 10.0\n",
      "time: 0.6042059129104018\n",
      "\n",
      "--- Row 5 ---\n",
      "name: simulator-matrix-feed\n",
      "full_output: Time Simulation (microseconds) : 11001 \n",
      "Distance : 0.182247\n",
      "\n",
      "WARNING: Could not find any nv files on this host!\n",
      "\n",
      "simu_rr: 6.0\n",
      "hosts: r2n48,r2n49,r2n50,r3n06,r3n07,r3n08,r3n09,r3n10,r3n11,r3n12\n",
      "node_count: nan\n",
      "biggest_matrix: 10.0\n",
      "time: 0.6628628550097346\n",
      "\n",
      "--- Row 6 ---\n",
      "name: simulator-matrix-feed\n",
      "full_output: Time Simulation (microseconds) : 13361 \n",
      "Distance : 0.147858\n",
      "\n",
      "WARNING: Could not find any nv files on this host!\n",
      "\n",
      "simu_rr: 7.0\n",
      "hosts: r2n48,r2n49,r2n50,r3n06,r3n07,r3n08,r3n09,r3n10,r3n11,r3n12\n",
      "node_count: nan\n",
      "biggest_matrix: 10.0\n",
      "time: 0.7313304347917438\n",
      "\n",
      "--- Row 7 ---\n",
      "name: simulator-matrix-feed\n",
      "full_output: Time Simulation (microseconds) : 11298 \n",
      "Distance : 0.102658\n",
      "\n",
      "WARNING: Could not find any nv files on this host!\n",
      "\n",
      "simu_rr: 8.0\n",
      "hosts: r2n48,r2n49,r2n50,r3n06,r3n07,r3n08,r3n09,r3n10,r3n11,r3n12\n",
      "node_count: nan\n",
      "biggest_matrix: 10.0\n",
      "time: 0.7697828426025808\n",
      "\n",
      "--- Row 8 ---\n",
      "name: simulator-matrix-feed\n",
      "full_output: Time Simulation (microseconds) : 11713 \n",
      "Distance : 0\n",
      "\n",
      "WARNING: Could not find any nv files on this host!\n",
      "\n",
      "simu_rr: 9.0\n",
      "hosts: r2n48,r2n49,r2n50,r3n06,r3n07,r3n08,r3n09,r3n10,r3n11,r3n12\n",
      "node_count: nan\n",
      "biggest_matrix: 10.0\n",
      "time: 0.835308266337961\n",
      "\n",
      "Max node count: 10\n"
     ]
    }
   ],
   "source": [
    "bench_names = df[\"name\"].unique()\n",
    "run_metadata = benchmark_data[\"config\"].applications\n",
    "\n",
    "max_node_count = 0\n",
    "\n",
    "for bench in bench_names:\n",
    "    bench_metadata = run_metadata[bench]\n",
    "    n_runs = benchmark_data[\"config\"].metadata.runs\n",
    "    print(f\"Benchmark: {bench} - Runs: {n_runs}\")\n",
    "    # print(bench_metadata)\n",
    "    df_bench = df[df[\"name\"] == bench]\n",
    "    for idx, row in df_bench.iterrows():\n",
    "        print(f\"--- Row {idx} ---\")\n",
    "        if \"node_count\" in row:\n",
    "            node_count = row[\"node_count\"]\n",
    "            if node_count > max_node_count:\n",
    "                max_node_count = node_count\n",
    "        for col, val in row.items():\n",
    "            print(f\"{col}: {val}\")   # printing val directly never truncates\n",
    "        print()\n",
    "\n",
    "max_node_count = int(max_node_count)\n",
    "print(f\"Max node count: {max_node_count}\")"
   ]
  },
  {
   "cell_type": "markdown",
   "metadata": {},
   "source": [
    "# Experiment 1\n",
    "x-axis: SIM_RR\n",
    "y_axis: distance "
   ]
  },
  {
   "cell_type": "code",
   "execution_count": 7,
   "metadata": {},
   "outputs": [],
   "source": [
    "import re\n",
    "import numpy as np\n",
    "import seaborn as sns\n",
    "import matplotlib.pyplot as plt\n",
    "\n",
    "def extract_distance(text):\n",
    "    matches = re.findall(\n",
    "        r\"Distance\\s*:\\s*([-+]?(?:\\d*\\.\\d+|\\d+)(?:[eE][-+]?\\d+)?)\",\n",
    "        str(text)\n",
    "    )\n",
    "    return float(matches[-1]) if matches else np.nan"
   ]
  },
  {
   "cell_type": "code",
   "execution_count": 8,
   "metadata": {},
   "outputs": [],
   "source": [
    "df_dist = df[df[\"name\"] == \"simulator-matrix-feed\"].copy()\n",
    "df_dist[\"distance\"] = df_dist[\"full_output\"].apply(extract_distance)\n",
    "df_dist = df_dist[[\"simu_rr\", \"distance\"]]"
   ]
  },
  {
   "cell_type": "code",
   "execution_count": 9,
   "metadata": {},
   "outputs": [
    {
     "data": {
      "image/png": "[encoded data removed]",
      "text/plain": [
       "<Figure size 640x480 with 1 Axes>"
      ]
     },
     "metadata": {},
     "output_type": "display_data"
    }
   ],
   "source": [
    "plt.figure()\n",
    "sns.lineplot(\n",
    "  data=df_dist,\n",
    "  x=\"simu_rr\",\n",
    "  y=\"distance\",\n",
    "  marker=\"o\",\n",
    "  errorbar=\"ci\",\n",
    ")\n",
    "\n",
    "plt.xlabel(\"Initial Interpolation (Offsetted Round-Robin)\")\n",
    "plt.ylabel(\"Output Error (NRMSE)\")\n",
    "#plt.title(f\"Simulation Distance per Simulation RR using Matrix trace for {max_node_count-1} workers\")\n",
    "plt.grid(True)\n",
    "plt.xticks(sorted(df_dist[\"simu_rr\"].unique()))\n",
    "plt.tight_layout()\n",
    "plt.savefig(\"figs/simulator-matrix-feed-distance.pdf\")\n",
    "plt.show()"
   ]
  }
 ],
 "metadata": {
  "kernelspec": {
   "display_name": ".venv",
   "language": "python",
   "name": "python3"
  },
  "language_info": {
   "codemirror_mode": {
    "name": "ipython",
    "version": 3
   },
   "file_extension": ".py",
   "mimetype": "text/x-python",
   "name": "python",
   "nbconvert_exporter": "python",
   "pygments_lexer": "ipython3",
   "version": "3.13.1"
  }
 },
 "nbformat": 4,
 "nbformat_minor": 4
}
