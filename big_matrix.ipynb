{
 "cells": [
  {
   "cell_type": "code",
   "execution_count": 3,
   "metadata": {
    "execution": {
     "iopub.execute_input": "2025-06-10T03:50:18.144456Z",
     "iopub.status.busy": "2025-06-10T03:50:18.144002Z",
     "iopub.status.idle": "2025-06-10T03:50:18.147993Z",
     "shell.execute_reply": "2025-06-10T03:50:18.147406Z"
    }
   },
   "outputs": [],
   "source": [
    "\n",
    "# Default locations if parameter not passed\n",
    "benchmark_data_path = \"/scratch/rodrigo.freitas/remy-schedulers/big_matrix.pkl\"\n"
   ]
  },
  {
   "cell_type": "code",
   "execution_count": 4,
   "metadata": {
    "execution": {
     "iopub.execute_input": "2025-06-10T03:50:18.150353Z",
     "iopub.status.busy": "2025-06-10T03:50:18.149960Z",
     "iopub.status.idle": "2025-06-10T03:50:21.178550Z",
     "shell.execute_reply": "2025-06-10T03:50:21.177898Z"
    }
   },
   "outputs": [
    {
     "data": {
      "text/html": [
       "<pre style=\"white-space:pre;overflow-x:auto;line-height:normal;font-family:Menlo,'DejaVu Sans Mono',consolas,'Courier New',monospace\"><span style=\"color: #800080; text-decoration-color: #800080; font-weight: bold\">Index</span><span style=\"font-weight: bold\">([</span><span style=\"color: #008000; text-decoration-color: #008000\">'name'</span>, <span style=\"color: #008000; text-decoration-color: #008000\">'tb-time'</span>, <span style=\"color: #008000; text-decoration-color: #008000\">'node_count'</span>, <span style=\"color: #008000; text-decoration-color: #008000\">'full_output'</span>, <span style=\"color: #008000; text-decoration-color: #008000\">'hosts'</span>, <span style=\"color: #008000; text-decoration-color: #008000\">'time'</span><span style=\"font-weight: bold\">]</span>, <span style=\"color: #808000; text-decoration-color: #808000\">dtype</span>=<span style=\"color: #008000; text-decoration-color: #008000\">'object'</span><span style=\"font-weight: bold\">)</span>\n",
       "</pre>\n"
      ],
      "text/plain": [
       "\u001b[1;35mIndex\u001b[0m\u001b[1m(\u001b[0m\u001b[1m[\u001b[0m\u001b[32m'name'\u001b[0m, \u001b[32m'tb-time'\u001b[0m, \u001b[32m'node_count'\u001b[0m, \u001b[32m'full_output'\u001b[0m, \u001b[32m'hosts'\u001b[0m, \u001b[32m'time'\u001b[0m\u001b[1m]\u001b[0m, \u001b[33mdtype\u001b[0m=\u001b[32m'object'\u001b[0m\u001b[1m)\u001b[0m\n"
      ]
     },
     "metadata": {},
     "output_type": "display_data"
    },
    {
     "data": {
      "text/html": [
       "<pre style=\"white-space:pre;overflow-x:auto;line-height:normal;font-family:Menlo,'DejaVu Sans Mono',consolas,'Courier New',monospace\">                    name    tb-time  node_count  \\\n",
       "<span style=\"color: #008080; text-decoration-color: #008080; font-weight: bold\">0</span>             big-matrix   <span style=\"color: #008080; text-decoration-color: #008080; font-weight: bold\">17.15569</span>           <span style=\"color: #008080; text-decoration-color: #008080; font-weight: bold\">1</span>   \n",
       "<span style=\"color: #008080; text-decoration-color: #008080; font-weight: bold\">1</span>             big-matrix  <span style=\"color: #008080; text-decoration-color: #008080; font-weight: bold\">119.47440</span>           <span style=\"color: #008080; text-decoration-color: #008080; font-weight: bold\">2</span>   \n",
       "<span style=\"color: #008080; text-decoration-color: #008080; font-weight: bold\">2</span>             big-matrix   <span style=\"color: #008080; text-decoration-color: #008080; font-weight: bold\">47.17903</span>           <span style=\"color: #008080; text-decoration-color: #008080; font-weight: bold\">4</span>   \n",
       "<span style=\"color: #008080; text-decoration-color: #008080; font-weight: bold\">3</span>  simulator-matrix-feed        NaN           <span style=\"color: #008080; text-decoration-color: #008080; font-weight: bold\">1</span>   \n",
       "\n",
       "                                         full_output  \\\n",
       "<span style=\"color: #008080; text-decoration-color: #008080; font-weight: bold\">0</span>  <span style=\"font-weight: bold\">[</span><span style=\"color: #008080; text-decoration-color: #008080; font-weight: bold\">1749580657.903012</span><span style=\"font-weight: bold\">]</span> <span style=\"font-weight: bold\">[</span>sorgan-cpu<span style=\"color: #00ff00; text-decoration-color: #00ff00; font-weight: bold\">1:230880:0</span><span style=\"font-weight: bold\">]</span>    <span style=\"color: #808000; text-decoration-color: #808000\">...</span>   \n",
       "<span style=\"color: #008080; text-decoration-color: #008080; font-weight: bold\">1</span>  <span style=\"font-weight: bold\">[</span><span style=\"color: #008080; text-decoration-color: #008080; font-weight: bold\">1749580675.528623</span><span style=\"font-weight: bold\">]</span> <span style=\"font-weight: bold\">[</span>sorgan-cpu<span style=\"color: #00ff00; text-decoration-color: #00ff00; font-weight: bold\">1:231006:0</span><span style=\"font-weight: bold\">]</span>    <span style=\"color: #808000; text-decoration-color: #808000\">...</span>   \n",
       "<span style=\"color: #008080; text-decoration-color: #008080; font-weight: bold\">2</span>  <span style=\"font-weight: bold\">[</span><span style=\"color: #008080; text-decoration-color: #008080; font-weight: bold\">1749580795.729646</span><span style=\"font-weight: bold\">]</span> <span style=\"font-weight: bold\">[</span>sorgan-cpu<span style=\"color: #00ff00; text-decoration-color: #00ff00; font-weight: bold\">1:231152:0</span><span style=\"font-weight: bold\">]</span>    <span style=\"color: #808000; text-decoration-color: #808000\">...</span>   \n",
       "<span style=\"color: #008080; text-decoration-color: #008080; font-weight: bold\">3</span>  Time Simulation <span style=\"font-weight: bold\">(</span>microseconds<span style=\"font-weight: bold\">)</span> : <span style=\"color: #008080; text-decoration-color: #008080; font-weight: bold\">2200</span> \\nDistan<span style=\"color: #808000; text-decoration-color: #808000\">...</span>   \n",
       "\n",
       "                                             hosts        time  \n",
       "<span style=\"color: #008080; text-decoration-color: #008080; font-weight: bold\">0</span>  sorgan-cpu1,sorgan-cpu2,sorgan-cpu3,sorgan-cpu4   <span style=\"color: #008080; text-decoration-color: #008080; font-weight: bold\">17.623373</span>  \n",
       "<span style=\"color: #008080; text-decoration-color: #008080; font-weight: bold\">1</span>  sorgan-cpu1,sorgan-cpu2,sorgan-cpu3,sorgan-cpu4  <span style=\"color: #008080; text-decoration-color: #008080; font-weight: bold\">120.143786</span>  \n",
       "<span style=\"color: #008080; text-decoration-color: #008080; font-weight: bold\">2</span>  sorgan-cpu1,sorgan-cpu2,sorgan-cpu3,sorgan-cpu4   <span style=\"color: #008080; text-decoration-color: #008080; font-weight: bold\">47.973734</span>  \n",
       "<span style=\"color: #008080; text-decoration-color: #008080; font-weight: bold\">3</span>  sorgan-cpu1,sorgan-cpu2,sorgan-cpu3,sorgan-cpu4    <span style=\"color: #008080; text-decoration-color: #008080; font-weight: bold\">0.352147</span>  \n",
       "</pre>\n"
      ],
      "text/plain": [
       "                    name    tb-time  node_count  \\\n",
       "\u001b[1;36m0\u001b[0m             big-matrix   \u001b[1;36m17.15569\u001b[0m           \u001b[1;36m1\u001b[0m   \n",
       "\u001b[1;36m1\u001b[0m             big-matrix  \u001b[1;36m119.47440\u001b[0m           \u001b[1;36m2\u001b[0m   \n",
       "\u001b[1;36m2\u001b[0m             big-matrix   \u001b[1;36m47.17903\u001b[0m           \u001b[1;36m4\u001b[0m   \n",
       "\u001b[1;36m3\u001b[0m  simulator-matrix-feed        NaN           \u001b[1;36m1\u001b[0m   \n",
       "\n",
       "                                         full_output  \\\n",
       "\u001b[1;36m0\u001b[0m  \u001b[1m[\u001b[0m\u001b[1;36m1749580657.903012\u001b[0m\u001b[1m]\u001b[0m \u001b[1m[\u001b[0msorgan-cpu\u001b[1;92m1:2308\u001b[0m\u001b[1;92m80:0\u001b[0m\u001b[1m]\u001b[0m    \u001b[33m...\u001b[0m   \n",
       "\u001b[1;36m1\u001b[0m  \u001b[1m[\u001b[0m\u001b[1;36m1749580675.528623\u001b[0m\u001b[1m]\u001b[0m \u001b[1m[\u001b[0msorgan-cpu\u001b[1;92m1:2310\u001b[0m\u001b[1;92m06:0\u001b[0m\u001b[1m]\u001b[0m    \u001b[33m...\u001b[0m   \n",
       "\u001b[1;36m2\u001b[0m  \u001b[1m[\u001b[0m\u001b[1;36m1749580795.729646\u001b[0m\u001b[1m]\u001b[0m \u001b[1m[\u001b[0msorgan-cpu\u001b[1;92m1:2311\u001b[0m\u001b[1;92m52:0\u001b[0m\u001b[1m]\u001b[0m    \u001b[33m...\u001b[0m   \n",
       "\u001b[1;36m3\u001b[0m  Time Simulation \u001b[1m(\u001b[0mmicroseconds\u001b[1m)\u001b[0m : \u001b[1;36m2200\u001b[0m \\nDistan\u001b[33m...\u001b[0m   \n",
       "\n",
       "                                             hosts        time  \n",
       "\u001b[1;36m0\u001b[0m  sorgan-cpu1,sorgan-cpu2,sorgan-cpu3,sorgan-cpu4   \u001b[1;36m17.623373\u001b[0m  \n",
       "\u001b[1;36m1\u001b[0m  sorgan-cpu1,sorgan-cpu2,sorgan-cpu3,sorgan-cpu4  \u001b[1;36m120.143786\u001b[0m  \n",
       "\u001b[1;36m2\u001b[0m  sorgan-cpu1,sorgan-cpu2,sorgan-cpu3,sorgan-cpu4   \u001b[1;36m47.973734\u001b[0m  \n",
       "\u001b[1;36m3\u001b[0m  sorgan-cpu1,sorgan-cpu2,sorgan-cpu3,sorgan-cpu4    \u001b[1;36m0.352147\u001b[0m  \n"
      ]
     },
     "metadata": {},
     "output_type": "display_data"
    },
    {
     "data": {
      "text/html": [
       "<pre style=\"white-space:pre;overflow-x:auto;line-height:normal;font-family:Menlo,'DejaVu Sans Mono',consolas,'Courier New',monospace\">                    name    tb-time  node_count  \\\n",
       "<span style=\"color: #008080; text-decoration-color: #008080; font-weight: bold\">0</span>             big-matrix   <span style=\"color: #008080; text-decoration-color: #008080; font-weight: bold\">17.15569</span>           <span style=\"color: #008080; text-decoration-color: #008080; font-weight: bold\">1</span>   \n",
       "<span style=\"color: #008080; text-decoration-color: #008080; font-weight: bold\">1</span>             big-matrix  <span style=\"color: #008080; text-decoration-color: #008080; font-weight: bold\">119.47440</span>           <span style=\"color: #008080; text-decoration-color: #008080; font-weight: bold\">2</span>   \n",
       "<span style=\"color: #008080; text-decoration-color: #008080; font-weight: bold\">2</span>             big-matrix   <span style=\"color: #008080; text-decoration-color: #008080; font-weight: bold\">47.17903</span>           <span style=\"color: #008080; text-decoration-color: #008080; font-weight: bold\">4</span>   \n",
       "<span style=\"color: #008080; text-decoration-color: #008080; font-weight: bold\">3</span>  simulator-matrix-feed        NaN           <span style=\"color: #008080; text-decoration-color: #008080; font-weight: bold\">1</span>   \n",
       "\n",
       "                                         full_output  \\\n",
       "<span style=\"color: #008080; text-decoration-color: #008080; font-weight: bold\">0</span>  <span style=\"font-weight: bold\">[</span><span style=\"color: #008080; text-decoration-color: #008080; font-weight: bold\">1749580657.903012</span><span style=\"font-weight: bold\">]</span> <span style=\"font-weight: bold\">[</span>sorgan-cpu<span style=\"color: #00ff00; text-decoration-color: #00ff00; font-weight: bold\">1:230880:0</span><span style=\"font-weight: bold\">]</span>    <span style=\"color: #808000; text-decoration-color: #808000\">...</span>   \n",
       "<span style=\"color: #008080; text-decoration-color: #008080; font-weight: bold\">1</span>  <span style=\"font-weight: bold\">[</span><span style=\"color: #008080; text-decoration-color: #008080; font-weight: bold\">1749580675.528623</span><span style=\"font-weight: bold\">]</span> <span style=\"font-weight: bold\">[</span>sorgan-cpu<span style=\"color: #00ff00; text-decoration-color: #00ff00; font-weight: bold\">1:231006:0</span><span style=\"font-weight: bold\">]</span>    <span style=\"color: #808000; text-decoration-color: #808000\">...</span>   \n",
       "<span style=\"color: #008080; text-decoration-color: #008080; font-weight: bold\">2</span>  <span style=\"font-weight: bold\">[</span><span style=\"color: #008080; text-decoration-color: #008080; font-weight: bold\">1749580795.729646</span><span style=\"font-weight: bold\">]</span> <span style=\"font-weight: bold\">[</span>sorgan-cpu<span style=\"color: #00ff00; text-decoration-color: #00ff00; font-weight: bold\">1:231152:0</span><span style=\"font-weight: bold\">]</span>    <span style=\"color: #808000; text-decoration-color: #808000\">...</span>   \n",
       "<span style=\"color: #008080; text-decoration-color: #008080; font-weight: bold\">3</span>  Time Simulation <span style=\"font-weight: bold\">(</span>microseconds<span style=\"font-weight: bold\">)</span> : <span style=\"color: #008080; text-decoration-color: #008080; font-weight: bold\">2200</span> \\nDistan<span style=\"color: #808000; text-decoration-color: #808000\">...</span>   \n",
       "\n",
       "                                             hosts        time  \n",
       "<span style=\"color: #008080; text-decoration-color: #008080; font-weight: bold\">0</span>  sorgan-cpu1,sorgan-cpu2,sorgan-cpu3,sorgan-cpu4   <span style=\"color: #008080; text-decoration-color: #008080; font-weight: bold\">17.623373</span>  \n",
       "<span style=\"color: #008080; text-decoration-color: #008080; font-weight: bold\">1</span>  sorgan-cpu1,sorgan-cpu2,sorgan-cpu3,sorgan-cpu4  <span style=\"color: #008080; text-decoration-color: #008080; font-weight: bold\">120.143786</span>  \n",
       "<span style=\"color: #008080; text-decoration-color: #008080; font-weight: bold\">2</span>  sorgan-cpu1,sorgan-cpu2,sorgan-cpu3,sorgan-cpu4   <span style=\"color: #008080; text-decoration-color: #008080; font-weight: bold\">47.973734</span>  \n",
       "<span style=\"color: #008080; text-decoration-color: #008080; font-weight: bold\">3</span>  sorgan-cpu1,sorgan-cpu2,sorgan-cpu3,sorgan-cpu4    <span style=\"color: #008080; text-decoration-color: #008080; font-weight: bold\">0.352147</span>  \n",
       "</pre>\n"
      ],
      "text/plain": [
       "                    name    tb-time  node_count  \\\n",
       "\u001b[1;36m0\u001b[0m             big-matrix   \u001b[1;36m17.15569\u001b[0m           \u001b[1;36m1\u001b[0m   \n",
       "\u001b[1;36m1\u001b[0m             big-matrix  \u001b[1;36m119.47440\u001b[0m           \u001b[1;36m2\u001b[0m   \n",
       "\u001b[1;36m2\u001b[0m             big-matrix   \u001b[1;36m47.17903\u001b[0m           \u001b[1;36m4\u001b[0m   \n",
       "\u001b[1;36m3\u001b[0m  simulator-matrix-feed        NaN           \u001b[1;36m1\u001b[0m   \n",
       "\n",
       "                                         full_output  \\\n",
       "\u001b[1;36m0\u001b[0m  \u001b[1m[\u001b[0m\u001b[1;36m1749580657.903012\u001b[0m\u001b[1m]\u001b[0m \u001b[1m[\u001b[0msorgan-cpu\u001b[1;92m1:2308\u001b[0m\u001b[1;92m80:0\u001b[0m\u001b[1m]\u001b[0m    \u001b[33m...\u001b[0m   \n",
       "\u001b[1;36m1\u001b[0m  \u001b[1m[\u001b[0m\u001b[1;36m1749580675.528623\u001b[0m\u001b[1m]\u001b[0m \u001b[1m[\u001b[0msorgan-cpu\u001b[1;92m1:2310\u001b[0m\u001b[1;92m06:0\u001b[0m\u001b[1m]\u001b[0m    \u001b[33m...\u001b[0m   \n",
       "\u001b[1;36m2\u001b[0m  \u001b[1m[\u001b[0m\u001b[1;36m1749580795.729646\u001b[0m\u001b[1m]\u001b[0m \u001b[1m[\u001b[0msorgan-cpu\u001b[1;92m1:2311\u001b[0m\u001b[1;92m52:0\u001b[0m\u001b[1m]\u001b[0m    \u001b[33m...\u001b[0m   \n",
       "\u001b[1;36m3\u001b[0m  Time Simulation \u001b[1m(\u001b[0mmicroseconds\u001b[1m)\u001b[0m : \u001b[1;36m2200\u001b[0m \\nDistan\u001b[33m...\u001b[0m   \n",
       "\n",
       "                                             hosts        time  \n",
       "\u001b[1;36m0\u001b[0m  sorgan-cpu1,sorgan-cpu2,sorgan-cpu3,sorgan-cpu4   \u001b[1;36m17.623373\u001b[0m  \n",
       "\u001b[1;36m1\u001b[0m  sorgan-cpu1,sorgan-cpu2,sorgan-cpu3,sorgan-cpu4  \u001b[1;36m120.143786\u001b[0m  \n",
       "\u001b[1;36m2\u001b[0m  sorgan-cpu1,sorgan-cpu2,sorgan-cpu3,sorgan-cpu4   \u001b[1;36m47.973734\u001b[0m  \n",
       "\u001b[1;36m3\u001b[0m  sorgan-cpu1,sorgan-cpu2,sorgan-cpu3,sorgan-cpu4    \u001b[1;36m0.352147\u001b[0m  \n"
      ]
     },
     "metadata": {},
     "output_type": "display_data"
    }
   ],
   "source": [
    "import pandas as pd\n",
    "import numpy as np\n",
    "import matplotlib.pyplot as plt\n",
    "import pickle\n",
    "from rich import print as rprint\n",
    "import seaborn as sns\n",
    "import os\n",
    "from scipy.stats import bootstrap\n",
    "\n",
    "benchmark_data = pickle.load(open(benchmark_data_path, \"rb\"))\n",
    "\n",
    "df = pd.DataFrame(benchmark_data[\"dataframe\"])\n",
    "\n",
    "\n",
    "rprint(df.columns)\n",
    "rprint(df.head())\n",
    "rprint(df.tail())"
   ]
  },
  {
   "cell_type": "code",
   "execution_count": 5,
   "metadata": {
    "execution": {
     "iopub.execute_input": "2025-06-10T03:50:21.227836Z",
     "iopub.status.busy": "2025-06-10T03:50:21.227270Z",
     "iopub.status.idle": "2025-06-10T03:50:21.232543Z",
     "shell.execute_reply": "2025-06-10T03:50:21.231912Z"
    }
   },
   "outputs": [],
   "source": [
    "sns.set_theme()\n",
    "\n",
    "colors = [\n",
    "    \"#7f7f7f\",  # grey\n",
    "    \"#621dac\",  # main purple\n",
    "    \"#c5702d\",  # orange\n",
    "    \"#000000\",  # black,\n",
    "    \"#099892\",  # teal\n",
    "    \"#ffd400\",  # yellow\n",
    "    \"#7e57c4\",  # pink/purple,\n",
    "]\n",
    "colors_backup = colors.copy()"
   ]
  },
  {
   "cell_type": "code",
   "execution_count": 6,
   "metadata": {
    "execution": {
     "iopub.execute_input": "2025-06-10T03:50:21.234916Z",
     "iopub.status.busy": "2025-06-10T03:50:21.234513Z",
     "iopub.status.idle": "2025-06-10T03:50:21.241885Z",
     "shell.execute_reply": "2025-06-10T03:50:21.241066Z"
    }
   },
   "outputs": [],
   "source": [
    "def calculate_bootstrap_error(data):\n",
    "    n_runs = benchmark_data[\"config\"].metadata.runs\n",
    "    if n_runs < 2:\n",
    "        return 0\n",
    "    res = bootstrap(\n",
    "        (data,), np.mean, confidence_level=0.95, n_resamples=1000, method=\"basic\"\n",
    "    )\n",
    "    return res.standard_error"
   ]
  },
  {
   "cell_type": "code",
   "execution_count": 7,
   "metadata": {
    "execution": {
     "iopub.execute_input": "2025-06-10T03:50:21.244596Z",
     "iopub.status.busy": "2025-06-10T03:50:21.244276Z",
     "iopub.status.idle": "2025-06-10T03:50:21.819708Z",
     "shell.execute_reply": "2025-06-10T03:50:21.818785Z"
    }
   },
   "outputs": [
    {
     "name": "stdout",
     "output_type": "stream",
     "text": [
      "Benchmark: big-matrix - Runs: 1\n",
      "--- Row 0 ---\n",
      "name: big-matrix\n",
      "tb-time: 17.15569\n",
      "node_count: 1\n",
      "full_output: [1749580657.903012] [sorgan-cpu1:230880:0]        ib_verbs.h:87   UCX  ERROR ibv_exp_query_device(mlx5_0) returned 95: Operation not supported\n",
      "Running Task Benchmark\n",
      "  Configuration:\n",
      "    Task Graph 1:\n",
      "      Time Steps: 64\n",
      "      Max Width: 64\n",
      "      Dependence Type: nearest\n",
      "      Radix: 3\n",
      "      Period: 0\n",
      "      Fraction Connected: 0.250000\n",
      "      Kernel:\n",
      "        Type: load_imbalance\n",
      "        Iterations: 1000000\n",
      "        Samples: 16\n",
      "        Imbalance: 0.100000\n",
      "      Output Bytes: 16\n",
      "      Scratch Bytes: 0\n",
      "Loop 0 : Elapsed time : 1.878996\n",
      "Loop 1 : Elapsed time : 1.526695\n",
      "Loop 2 : Elapsed time : 1.526722\n",
      "Loop 3 : Elapsed time : 1.527014\n",
      "Loop 4 : Elapsed time : 1.527298\n",
      "Loop 5 : Elapsed time : 1.529422\n",
      "Loop 6 : Elapsed time : 1.527127\n",
      "Loop 7 : Elapsed time : 1.524988\n",
      "Loop 8 : Elapsed time : 1.529999\n",
      "Loop 9 : Elapsed time : 1.526399\n",
      "Loop 10 : Elapsed time : 1.525230\n",
      "Total Tasks 4096\n",
      "Total Dependencies 12160\n",
      "Total FLOPs 522225639424\n",
      "Total Bytes 0\n",
      "Elapsed Time 1.715569e+01 seconds\n",
      "FLOP/s 3.044038e+10\n",
      "B/s 0.000000e+00\n",
      "\n",
      "\n",
      "hosts: sorgan-cpu1,sorgan-cpu2,sorgan-cpu3,sorgan-cpu4\n",
      "time: 17.62337299308274\n",
      "\n",
      "--- Row 1 ---\n",
      "name: big-matrix\n",
      "tb-time: 119.4744\n",
      "node_count: 2\n",
      "full_output: [1749580675.528623] [sorgan-cpu1:231006:0]        ib_verbs.h:87   UCX  ERROR ibv_exp_query_device(mlx5_0) returned 95: Operation not supported\n",
      "[1749580675.718005] [sorgan-cpu2:217444:0]        ib_verbs.h:87   UCX  ERROR ibv_exp_query_device(mlx5_0) returned 95: Operation not supported\n",
      "Running Task Benchmark\n",
      "  Configuration:\n",
      "    Task Graph 1:\n",
      "      Time Steps: 64\n",
      "      Max Width: 64\n",
      "      Dependence Type: nearest\n",
      "      Radix: 3\n",
      "      Period: 0\n",
      "      Fraction Connected: 0.250000\n",
      "      Kernel:\n",
      "        Type: load_imbalance\n",
      "        Iterations: 1000000\n",
      "        Samples: 16\n",
      "        Imbalance: 0.100000\n",
      "      Output Bytes: 16\n",
      "      Scratch Bytes: 0\n",
      "Loop 0 : Elapsed time : 10.100079\n",
      "Loop 1 : Elapsed time : 9.957257\n",
      "Loop 2 : Elapsed time : 9.940297\n",
      "Loop 3 : Elapsed time : 9.937742\n",
      "Loop 4 : Elapsed time : 9.943183\n",
      "Loop 5 : Elapsed time : 9.946444\n",
      "Loop 6 : Elapsed time : 9.946048\n",
      "Loop 7 : Elapsed time : 9.935886\n",
      "Loop 8 : Elapsed time : 9.936256\n",
      "Loop 9 : Elapsed time : 9.927185\n",
      "Loop 10 : Elapsed time : 9.944352\n",
      "Loop 11 : Elapsed time : 9.953783\n",
      "Total Tasks 4096\n",
      "Total Dependencies 12160\n",
      "Total FLOPs 522225639424\n",
      "Total Bytes 0\n",
      "Elapsed Time 1.194744e+02 seconds\n",
      "FLOP/s 4.371027e+09\n",
      "B/s 0.000000e+00\n",
      "\n",
      "\n",
      "hosts: sorgan-cpu1,sorgan-cpu2,sorgan-cpu3,sorgan-cpu4\n",
      "time: 120.14378622209188\n",
      "\n",
      "--- Row 2 ---\n",
      "name: big-matrix\n",
      "tb-time: 47.17903\n",
      "node_count: 4\n",
      "full_output: [1749580795.729646] [sorgan-cpu1:231152:0]        ib_verbs.h:87   UCX  ERROR ibv_exp_query_device(mlx5_0) returned 95: Operation not supported\n",
      "[1749580795.731215] [sorgan-cpu2:217539:0]        ib_verbs.h:87   UCX  ERROR ibv_exp_query_device(mlx5_0) returned 95: Operation not supported\n",
      "[1749580795.948764] [sorgan-cpu4:142153:0]        ib_verbs.h:87   UCX  ERROR ibv_exp_query_device(mlx5_0) returned 95: Operation not supported\n",
      "[1749580795.983415] [sorgan-cpu3:148227:0]        ib_verbs.h:87   UCX  ERROR ibv_exp_query_device(mlx5_0) returned 95: Operation not supported\n",
      "Running Task Benchmark\n",
      "  Configuration:\n",
      "    Task Graph 1:\n",
      "      Time Steps: 64\n",
      "      Max Width: 64\n",
      "      Dependence Type: nearest\n",
      "      Radix: 3\n",
      "      Period: 0\n",
      "      Fraction Connected: 0.250000\n",
      "      Kernel:\n",
      "        Type: load_imbalance\n",
      "        Iterations: 1000000\n",
      "        Samples: 16\n",
      "        Imbalance: 0.100000\n",
      "      Output Bytes: 16\n",
      "      Scratch Bytes: 0\n",
      "Loop 0 : Elapsed time : 3.517245\n",
      "Loop 1 : Elapsed time : 3.359484\n",
      "Loop 2 : Elapsed time : 3.364657\n",
      "Loop 3 : Elapsed time : 3.350266\n",
      "Loop 4 : Elapsed time : 3.346044\n",
      "Loop 5 : Elapsed time : 3.357450\n",
      "Loop 6 : Elapsed time : 3.357764\n",
      "Loop 7 : Elapsed time : 3.358474\n",
      "Loop 8 : Elapsed time : 3.353389\n",
      "Loop 9 : Elapsed time : 3.357165\n",
      "Loop 10 : Elapsed time : 3.371049\n",
      "Loop 11 : Elapsed time : 3.349713\n",
      "Loop 12 : Elapsed time : 3.368762\n",
      "Loop 13 : Elapsed time : 3.361504\n",
      "Total Tasks 4096\n",
      "Total Dependencies 12160\n",
      "Total FLOPs 522225639424\n",
      "Total Bytes 0\n",
      "Elapsed Time 4.717903e+01 seconds\n",
      "FLOP/s 1.106902e+10\n",
      "B/s 0.000000e+00\n",
      "\n",
      "\n",
      "hosts: sorgan-cpu1,sorgan-cpu2,sorgan-cpu3,sorgan-cpu4\n",
      "time: 47.973734200932086\n",
      "\n",
      "Benchmark: simulator-matrix-feed - Runs: 1\n",
      "--- Row 3 ---\n",
      "name: simulator-matrix-feed\n",
      "tb-time: nan\n",
      "node_count: 1\n",
      "full_output: Time Simulation (microseconds) : 2200 \n",
      "Distance : -677.312\n",
      "\n",
      "\n",
      "hosts: sorgan-cpu1,sorgan-cpu2,sorgan-cpu3,sorgan-cpu4\n",
      "time: 0.3521465730154887\n",
      "\n"
     ]
    }
   ],
   "source": [
    "bench_names = df[\"name\"].unique()\n",
    "run_metadata = benchmark_data[\"config\"].applications\n",
    "\n",
    "for bench in bench_names:\n",
    "    bench_metadata = run_metadata[bench]\n",
    "    n_runs = benchmark_data[\"config\"].metadata.runs\n",
    "    print(f\"Benchmark: {bench} - Runs: {n_runs}\")\n",
    "    # print(bench_metadata)\n",
    "    df_bench = df[df[\"name\"] == bench]\n",
    "    for idx, row in df_bench.iterrows():\n",
    "        print(f\"--- Row {idx} ---\")\n",
    "        for col, val in row.items():\n",
    "            print(f\"{col}: {val}\")   # printing val directly never truncates\n",
    "        print()\n",
    "\n",
    "\n"
   ]
  }
 ],
 "metadata": {
  "kernelspec": {
   "display_name": ".venv",
   "language": "python",
   "name": "python3"
  },
  "language_info": {
   "codemirror_mode": {
    "name": "ipython",
    "version": 3
   },
   "file_extension": ".py",
   "mimetype": "text/x-python",
   "name": "python",
   "nbconvert_exporter": "python",
   "pygments_lexer": "ipython3",
   "version": "3.13.1"
  }
 },
 "nbformat": 4,
 "nbformat_minor": 2
}
