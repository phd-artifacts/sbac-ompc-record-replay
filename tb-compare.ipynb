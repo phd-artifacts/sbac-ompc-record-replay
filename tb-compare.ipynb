{
 "cells": [
  {
   "cell_type": "code",
   "execution_count": 1,
   "metadata": {
    "execution": {
     "iopub.execute_input": "2025-06-10T03:50:18.144456Z",
     "iopub.status.busy": "2025-06-10T03:50:18.144002Z",
     "iopub.status.idle": "2025-06-10T03:50:18.147993Z",
     "shell.execute_reply": "2025-06-10T03:50:18.147406Z"
    }
   },
   "outputs": [],
   "source": [
    "\n",
    "# Default locations if parameter not passed\n",
    "benchmark_data_path = \"/scratch/rodrigo.freitas/remy-schedulers/tb-compare.pkl\"\n"
   ]
  },
  {
   "cell_type": "code",
   "execution_count": 2,
   "metadata": {
    "execution": {
     "iopub.execute_input": "2025-06-10T03:50:18.150353Z",
     "iopub.status.busy": "2025-06-10T03:50:18.149960Z",
     "iopub.status.idle": "2025-06-10T03:50:21.178550Z",
     "shell.execute_reply": "2025-06-10T03:50:21.177898Z"
    }
   },
   "outputs": [],
   "source": [
    "import pandas as pd\n",
    "import numpy as np\n",
    "import matplotlib.pyplot as plt\n",
    "import pickle\n",
    "from rich import print as rprint\n",
    "import seaborn as sns\n",
    "import os\n",
    "import re\n",
    "from scipy.stats import bootstrap\n",
    "\n",
    "benchmark_data = pickle.load(open(benchmark_data_path, \"rb\"))\n",
    "\n",
    "df = pd.DataFrame(benchmark_data[\"dataframe\"])\n",
    "\n",
    "sns.set_theme()\n",
    "\n",
    "colors = [\n",
    "    \"#7f7f7f\",  # grey\n",
    "    \"#621dac\",  # main purple\n",
    "    \"#c5702d\",  # orange\n",
    "    \"#000000\",  # black,\n",
    "    \"#099892\",  # teal\n",
    "    \"#ffd400\",  # yellow\n",
    "    \"#7e57c4\",  # pink/purple,\n",
    "]\n",
    "colors_backup = colors.copy()\n",
    "\n",
    "def calculate_bootstrap_error(data):\n",
    "    n_runs = benchmark_data[\"config\"].metadata.runs\n",
    "    if n_runs < 2:\n",
    "        return 0\n",
    "    res = bootstrap(\n",
    "        (data,), np.mean, confidence_level=0.95, n_resamples=1000, method=\"basic\"\n",
    "    )\n",
    "    return res.standard_error"
   ]
  },
  {
   "cell_type": "code",
   "execution_count": 3,
   "metadata": {},
   "outputs": [
    {
     "name": "stdout",
     "output_type": "stream",
     "text": [
      "Benchmarks found: ['tb-compare']\n",
      "Index(['name', 'node_count', 'iter', 'image', 'full_output', 'hosts',\n",
      "       'ompc_tb_iter_num', 'type', 'tb_path', 'time'],\n",
      "      dtype='object')\n",
      "         name  node_count   iter               image  \\\n",
      "0  tb-compare           1   1000  scheduler-main.sif   \n",
      "1  tb-compare           1   1000  scheduler-main.sif   \n",
      "2  tb-compare           1  10000  scheduler-main.sif   \n",
      "3  tb-compare           1  10000  scheduler-main.sif   \n",
      "4  tb-compare           2   1000  scheduler-main.sif   \n",
      "\n",
      "                                         full_output  \\\n",
      "0  [1749737225.509686] [sorgan-cpu1:321788:0]    ...   \n",
      "1  [1749737226.241517] [sorgan-cpu1:321902:0]    ...   \n",
      "2  [1749737226.965344] [sorgan-cpu1:322019:0]    ...   \n",
      "3  [1749737227.692036] [sorgan-cpu1:322137:0]    ...   \n",
      "4  [1749737228.422309] [sorgan-cpu1:322254:0]    ...   \n",
      "\n",
      "                                             hosts  ompc_tb_iter_num type  \\\n",
      "0  sorgan-cpu1,sorgan-cpu2,sorgan-cpu3,sorgan-cpu4                10  fft   \n",
      "1  sorgan-cpu1,sorgan-cpu2,sorgan-cpu3,sorgan-cpu4                10  fft   \n",
      "2  sorgan-cpu1,sorgan-cpu2,sorgan-cpu3,sorgan-cpu4                10  fft   \n",
      "3  sorgan-cpu1,sorgan-cpu2,sorgan-cpu3,sorgan-cpu4                10  fft   \n",
      "4  sorgan-cpu1,sorgan-cpu2,sorgan-cpu3,sorgan-cpu4                10  fft   \n",
      "\n",
      "        tb_path      time  \n",
      "0  tb-main-loop  0.705948  \n",
      "1  tb-main-loop  0.720726  \n",
      "2  tb-main-loop  0.720931  \n",
      "3  tb-main-loop  0.717328  \n",
      "4  tb-main-loop  1.200015  \n"
     ]
    }
   ],
   "source": [
    "bench_names = df[\"name\"].unique()\n",
    "print(f\"Benchmarks found: {bench_names}\")\n",
    "run_metadata = benchmark_data[\"config\"].applications\n",
    "n_runs = benchmark_data[\"config\"].metadata.runs\n",
    "\n",
    "df_bench = df[df[\"name\"] == 'tb-compare']\n",
    "\n",
    "\n",
    "print(df_bench.columns)\n",
    "print(df_bench.head())\n"
   ]
  },
  {
   "cell_type": "code",
   "execution_count": 4,
   "metadata": {},
   "outputs": [
    {
     "name": "stdout",
     "output_type": "stream",
     "text": [
      "Full output of the first row:\n",
      "Index(['name', 'node_count', 'iter', 'image', 'full_output', 'hosts',\n",
      "       'ompc_tb_iter_num', 'type', 'tb_path', 'time', 'tb_time', 'sched_time'],\n",
      "      dtype='object')\n"
     ]
    }
   ],
   "source": [
    "# print the field full_output of the first row\n",
    "print(\"Full output of the first row:\")\n",
    "\n",
    "# tb_time field (seconds)\n",
    "# get total time from the output\n",
    "def extract_elapsed_time(text):\n",
    "    matches = re.findall(r\"Elapsed Time ([\\d.eE+-]+) seconds\", text)\n",
    "    if matches:\n",
    "        # gets last mach\n",
    "        # float() already handles scientific notation\n",
    "        return float(matches[-1])\n",
    "    return float('nan')\n",
    "\n",
    "def extract_total_sched_time(text):\n",
    "    # Find all \"Scheduling : <number>\"\n",
    "    matches = re.findall(r\"Scheduling\\s*:\\s*(\\d+)\", text)\n",
    "    if not matches:\n",
    "        return None\n",
    "    total_microseconds = sum(int(m) for m in matches)\n",
    "    return total_microseconds / 1e6  # microseconds to seconds\n",
    "\n",
    "df_bench['tb_time'] = df_bench['full_output'].apply(extract_elapsed_time)\n",
    "df_bench['sched_time'] = df_bench['full_output'].apply(extract_total_sched_time)\n",
    "\n",
    "print(df_bench.columns)\n",
    "\n"
   ]
  },
  {
   "cell_type": "code",
   "execution_count": 5,
   "metadata": {},
   "outputs": [
    {
     "name": "stdout",
     "output_type": "stream",
     "text": [
      "['name', 'node_count', 'iter', 'ompc_tb_iter_num', 'image', 'type', 'tb_path', 'level_7', 'tb_time', 'sched_time']\n"
     ]
    },
    {
     "ename": "ValueError",
     "evalue": "Could not interpret value `tb_time_mean` for `y`. An entry with this name does not appear in `data`.",
     "output_type": "error",
     "traceback": [
      "\u001b[31m---------------------------------------------------------------------------\u001b[39m",
      "\u001b[31mValueError\u001b[39m                                Traceback (most recent call last)",
      "\u001b[36mCell\u001b[39m\u001b[36m \u001b[39m\u001b[32mIn[5]\u001b[39m\u001b[32m, line 46\u001b[39m\n\u001b[32m     44\u001b[39m \u001b[38;5;28;01mfor\u001b[39;00m metric \u001b[38;5;129;01min\u001b[39;00m [\u001b[33m'\u001b[39m\u001b[33mtb_time\u001b[39m\u001b[33m'\u001b[39m, \u001b[33m'\u001b[39m\u001b[33msched_time\u001b[39m\u001b[33m'\u001b[39m]:\n\u001b[32m     45\u001b[39m     plt.figure()\n\u001b[32m---> \u001b[39m\u001b[32m46\u001b[39m     \u001b[43mplot_ci_line\u001b[49m\u001b[43m(\u001b[49m\n\u001b[32m     47\u001b[39m \u001b[43m        \u001b[49m\u001b[43mgrouped\u001b[49m\u001b[43m,\u001b[49m\n\u001b[32m     48\u001b[39m \u001b[43m        \u001b[49m\u001b[43mx\u001b[49m\u001b[43m=\u001b[49m\u001b[33;43m'\u001b[39;49m\u001b[33;43mnode_count\u001b[39;49m\u001b[33;43m'\u001b[39;49m\u001b[43m,\u001b[49m\n\u001b[32m     49\u001b[39m \u001b[43m        \u001b[49m\u001b[43my_mean\u001b[49m\u001b[43m=\u001b[49m\u001b[33;43mf\u001b[39;49m\u001b[33;43m'\u001b[39;49m\u001b[38;5;132;43;01m{\u001b[39;49;00m\u001b[43mmetric\u001b[49m\u001b[38;5;132;43;01m}\u001b[39;49;00m\u001b[33;43m_mean\u001b[39;49m\u001b[33;43m'\u001b[39;49m\u001b[43m,\u001b[49m\n\u001b[32m     50\u001b[39m \u001b[43m        \u001b[49m\u001b[43my_ci_lower\u001b[49m\u001b[43m=\u001b[49m\u001b[33;43mf\u001b[39;49m\u001b[33;43m'\u001b[39;49m\u001b[38;5;132;43;01m{\u001b[39;49;00m\u001b[43mmetric\u001b[49m\u001b[38;5;132;43;01m}\u001b[39;49;00m\u001b[33;43m_ci_lower\u001b[39;49m\u001b[33;43m'\u001b[39;49m\u001b[43m,\u001b[49m\n\u001b[32m     51\u001b[39m \u001b[43m        \u001b[49m\u001b[43my_ci_upper\u001b[49m\u001b[43m=\u001b[49m\u001b[33;43mf\u001b[39;49m\u001b[33;43m'\u001b[39;49m\u001b[38;5;132;43;01m{\u001b[39;49;00m\u001b[43mmetric\u001b[49m\u001b[38;5;132;43;01m}\u001b[39;49;00m\u001b[33;43m_ci_upper\u001b[39;49m\u001b[33;43m'\u001b[39;49m\u001b[43m,\u001b[49m\n\u001b[32m     52\u001b[39m \u001b[43m        \u001b[49m\u001b[43mlabel\u001b[49m\u001b[43m=\u001b[49m\u001b[43mmetric\u001b[49m\n\u001b[32m     53\u001b[39m \u001b[43m    \u001b[49m\u001b[43m)\u001b[49m\n\u001b[32m     54\u001b[39m     plt.title(\u001b[33mf\u001b[39m\u001b[33m'\u001b[39m\u001b[38;5;132;01m{\u001b[39;00mmetric\u001b[38;5;132;01m}\u001b[39;00m\u001b[33m vs node_count (95% bootstrap CI)\u001b[39m\u001b[33m'\u001b[39m)\n\u001b[32m     55\u001b[39m     plt.xlabel(\u001b[33m'\u001b[39m\u001b[33mnode_count\u001b[39m\u001b[33m'\u001b[39m)\n",
      "\u001b[36mCell\u001b[39m\u001b[36m \u001b[39m\u001b[32mIn[5]\u001b[39m\u001b[32m, line 35\u001b[39m, in \u001b[36mplot_ci_line\u001b[39m\u001b[34m(data, x, y_mean, y_ci_lower, y_ci_upper, label)\u001b[39m\n\u001b[32m     34\u001b[39m \u001b[38;5;28;01mdef\u001b[39;00m\u001b[38;5;250m \u001b[39m\u001b[34mplot_ci_line\u001b[39m(data, x, y_mean, y_ci_lower, y_ci_upper, label):\n\u001b[32m---> \u001b[39m\u001b[32m35\u001b[39m     \u001b[43msns\u001b[49m\u001b[43m.\u001b[49m\u001b[43mlineplot\u001b[49m\u001b[43m(\u001b[49m\u001b[43mdata\u001b[49m\u001b[43m=\u001b[49m\u001b[43mdata\u001b[49m\u001b[43m,\u001b[49m\u001b[43m \u001b[49m\u001b[43mx\u001b[49m\u001b[43m=\u001b[49m\u001b[43mx\u001b[49m\u001b[43m,\u001b[49m\u001b[43m \u001b[49m\u001b[43my\u001b[49m\u001b[43m=\u001b[49m\u001b[43my_mean\u001b[49m\u001b[43m,\u001b[49m\u001b[43m \u001b[49m\u001b[43mlabel\u001b[49m\u001b[43m=\u001b[49m\u001b[43mlabel\u001b[49m\u001b[43m)\u001b[49m\n\u001b[32m     36\u001b[39m     plt.fill_between(\n\u001b[32m     37\u001b[39m         data[x],\n\u001b[32m     38\u001b[39m         data[y_ci_lower],\n\u001b[32m     39\u001b[39m         data[y_ci_upper],\n\u001b[32m     40\u001b[39m         alpha=\u001b[32m0.3\u001b[39m\n\u001b[32m     41\u001b[39m     )\n",
      "\u001b[36mFile \u001b[39m\u001b[32m/scratch/rodrigo.freitas/remy-schedulers/.venv/lib/python3.13/site-packages/seaborn/relational.py:485\u001b[39m, in \u001b[36mlineplot\u001b[39m\u001b[34m(data, x, y, hue, size, style, units, weights, palette, hue_order, hue_norm, sizes, size_order, size_norm, dashes, markers, style_order, estimator, errorbar, n_boot, seed, orient, sort, err_style, err_kws, legend, ci, ax, **kwargs)\u001b[39m\n\u001b[32m    471\u001b[39m \u001b[38;5;28;01mdef\u001b[39;00m\u001b[38;5;250m \u001b[39m\u001b[34mlineplot\u001b[39m(\n\u001b[32m    472\u001b[39m     data=\u001b[38;5;28;01mNone\u001b[39;00m, *,\n\u001b[32m    473\u001b[39m     x=\u001b[38;5;28;01mNone\u001b[39;00m, y=\u001b[38;5;28;01mNone\u001b[39;00m, hue=\u001b[38;5;28;01mNone\u001b[39;00m, size=\u001b[38;5;28;01mNone\u001b[39;00m, style=\u001b[38;5;28;01mNone\u001b[39;00m, units=\u001b[38;5;28;01mNone\u001b[39;00m, weights=\u001b[38;5;28;01mNone\u001b[39;00m,\n\u001b[32m   (...)\u001b[39m\u001b[32m    481\u001b[39m \n\u001b[32m    482\u001b[39m     \u001b[38;5;66;03m# Handle deprecation of ci parameter\u001b[39;00m\n\u001b[32m    483\u001b[39m     errorbar = _deprecate_ci(errorbar, ci)\n\u001b[32m--> \u001b[39m\u001b[32m485\u001b[39m     p = \u001b[43m_LinePlotter\u001b[49m\u001b[43m(\u001b[49m\n\u001b[32m    486\u001b[39m \u001b[43m        \u001b[49m\u001b[43mdata\u001b[49m\u001b[43m=\u001b[49m\u001b[43mdata\u001b[49m\u001b[43m,\u001b[49m\n\u001b[32m    487\u001b[39m \u001b[43m        \u001b[49m\u001b[43mvariables\u001b[49m\u001b[43m=\u001b[49m\u001b[38;5;28;43mdict\u001b[39;49m\u001b[43m(\u001b[49m\n\u001b[32m    488\u001b[39m \u001b[43m            \u001b[49m\u001b[43mx\u001b[49m\u001b[43m=\u001b[49m\u001b[43mx\u001b[49m\u001b[43m,\u001b[49m\u001b[43m \u001b[49m\u001b[43my\u001b[49m\u001b[43m=\u001b[49m\u001b[43my\u001b[49m\u001b[43m,\u001b[49m\u001b[43m \u001b[49m\u001b[43mhue\u001b[49m\u001b[43m=\u001b[49m\u001b[43mhue\u001b[49m\u001b[43m,\u001b[49m\u001b[43m \u001b[49m\u001b[43msize\u001b[49m\u001b[43m=\u001b[49m\u001b[43msize\u001b[49m\u001b[43m,\u001b[49m\u001b[43m \u001b[49m\u001b[43mstyle\u001b[49m\u001b[43m=\u001b[49m\u001b[43mstyle\u001b[49m\u001b[43m,\u001b[49m\u001b[43m \u001b[49m\u001b[43munits\u001b[49m\u001b[43m=\u001b[49m\u001b[43munits\u001b[49m\u001b[43m,\u001b[49m\u001b[43m \u001b[49m\u001b[43mweight\u001b[49m\u001b[43m=\u001b[49m\u001b[43mweights\u001b[49m\n\u001b[32m    489\u001b[39m \u001b[43m        \u001b[49m\u001b[43m)\u001b[49m\u001b[43m,\u001b[49m\n\u001b[32m    490\u001b[39m \u001b[43m        \u001b[49m\u001b[43mestimator\u001b[49m\u001b[43m=\u001b[49m\u001b[43mestimator\u001b[49m\u001b[43m,\u001b[49m\u001b[43m \u001b[49m\u001b[43mn_boot\u001b[49m\u001b[43m=\u001b[49m\u001b[43mn_boot\u001b[49m\u001b[43m,\u001b[49m\u001b[43m \u001b[49m\u001b[43mseed\u001b[49m\u001b[43m=\u001b[49m\u001b[43mseed\u001b[49m\u001b[43m,\u001b[49m\u001b[43m \u001b[49m\u001b[43merrorbar\u001b[49m\u001b[43m=\u001b[49m\u001b[43merrorbar\u001b[49m\u001b[43m,\u001b[49m\n\u001b[32m    491\u001b[39m \u001b[43m        \u001b[49m\u001b[43msort\u001b[49m\u001b[43m=\u001b[49m\u001b[43msort\u001b[49m\u001b[43m,\u001b[49m\u001b[43m \u001b[49m\u001b[43morient\u001b[49m\u001b[43m=\u001b[49m\u001b[43morient\u001b[49m\u001b[43m,\u001b[49m\u001b[43m \u001b[49m\u001b[43merr_style\u001b[49m\u001b[43m=\u001b[49m\u001b[43merr_style\u001b[49m\u001b[43m,\u001b[49m\u001b[43m \u001b[49m\u001b[43merr_kws\u001b[49m\u001b[43m=\u001b[49m\u001b[43merr_kws\u001b[49m\u001b[43m,\u001b[49m\n\u001b[32m    492\u001b[39m \u001b[43m        \u001b[49m\u001b[43mlegend\u001b[49m\u001b[43m=\u001b[49m\u001b[43mlegend\u001b[49m\u001b[43m,\u001b[49m\n\u001b[32m    493\u001b[39m \u001b[43m    \u001b[49m\u001b[43m)\u001b[49m\n\u001b[32m    495\u001b[39m     p.map_hue(palette=palette, order=hue_order, norm=hue_norm)\n\u001b[32m    496\u001b[39m     p.map_size(sizes=sizes, order=size_order, norm=size_norm)\n",
      "\u001b[36mFile \u001b[39m\u001b[32m/scratch/rodrigo.freitas/remy-schedulers/.venv/lib/python3.13/site-packages/seaborn/relational.py:216\u001b[39m, in \u001b[36m_LinePlotter.__init__\u001b[39m\u001b[34m(self, data, variables, estimator, n_boot, seed, errorbar, sort, orient, err_style, err_kws, legend)\u001b[39m\n\u001b[32m    202\u001b[39m \u001b[38;5;28;01mdef\u001b[39;00m\u001b[38;5;250m \u001b[39m\u001b[34m__init__\u001b[39m(\n\u001b[32m    203\u001b[39m     \u001b[38;5;28mself\u001b[39m, *,\n\u001b[32m    204\u001b[39m     data=\u001b[38;5;28;01mNone\u001b[39;00m, variables={},\n\u001b[32m   (...)\u001b[39m\u001b[32m    210\u001b[39m     \u001b[38;5;66;03m# the kind of plot to draw, but for the time being we need to set\u001b[39;00m\n\u001b[32m    211\u001b[39m     \u001b[38;5;66;03m# this information so the SizeMapping can use it\u001b[39;00m\n\u001b[32m    212\u001b[39m     \u001b[38;5;28mself\u001b[39m._default_size_range = (\n\u001b[32m    213\u001b[39m         np.r_[\u001b[32m.5\u001b[39m, \u001b[32m2\u001b[39m] * mpl.rcParams[\u001b[33m\"\u001b[39m\u001b[33mlines.linewidth\u001b[39m\u001b[33m\"\u001b[39m]\n\u001b[32m    214\u001b[39m     )\n\u001b[32m--> \u001b[39m\u001b[32m216\u001b[39m     \u001b[38;5;28;43msuper\u001b[39;49m\u001b[43m(\u001b[49m\u001b[43m)\u001b[49m\u001b[43m.\u001b[49m\u001b[34;43m__init__\u001b[39;49m\u001b[43m(\u001b[49m\u001b[43mdata\u001b[49m\u001b[43m=\u001b[49m\u001b[43mdata\u001b[49m\u001b[43m,\u001b[49m\u001b[43m \u001b[49m\u001b[43mvariables\u001b[49m\u001b[43m=\u001b[49m\u001b[43mvariables\u001b[49m\u001b[43m)\u001b[49m\n\u001b[32m    218\u001b[39m     \u001b[38;5;28mself\u001b[39m.estimator = estimator\n\u001b[32m    219\u001b[39m     \u001b[38;5;28mself\u001b[39m.errorbar = errorbar\n",
      "\u001b[36mFile \u001b[39m\u001b[32m/scratch/rodrigo.freitas/remy-schedulers/.venv/lib/python3.13/site-packages/seaborn/_base.py:634\u001b[39m, in \u001b[36mVectorPlotter.__init__\u001b[39m\u001b[34m(self, data, variables)\u001b[39m\n\u001b[32m    629\u001b[39m \u001b[38;5;66;03m# var_ordered is relevant only for categorical axis variables, and may\u001b[39;00m\n\u001b[32m    630\u001b[39m \u001b[38;5;66;03m# be better handled by an internal axis information object that tracks\u001b[39;00m\n\u001b[32m    631\u001b[39m \u001b[38;5;66;03m# such information and is set up by the scale_* methods. The analogous\u001b[39;00m\n\u001b[32m    632\u001b[39m \u001b[38;5;66;03m# information for numeric axes would be information about log scales.\u001b[39;00m\n\u001b[32m    633\u001b[39m \u001b[38;5;28mself\u001b[39m._var_ordered = {\u001b[33m\"\u001b[39m\u001b[33mx\u001b[39m\u001b[33m\"\u001b[39m: \u001b[38;5;28;01mFalse\u001b[39;00m, \u001b[33m\"\u001b[39m\u001b[33my\u001b[39m\u001b[33m\"\u001b[39m: \u001b[38;5;28;01mFalse\u001b[39;00m}  \u001b[38;5;66;03m# alt., used DefaultDict\u001b[39;00m\n\u001b[32m--> \u001b[39m\u001b[32m634\u001b[39m \u001b[38;5;28;43mself\u001b[39;49m\u001b[43m.\u001b[49m\u001b[43massign_variables\u001b[49m\u001b[43m(\u001b[49m\u001b[43mdata\u001b[49m\u001b[43m,\u001b[49m\u001b[43m \u001b[49m\u001b[43mvariables\u001b[49m\u001b[43m)\u001b[49m\n\u001b[32m    636\u001b[39m \u001b[38;5;66;03m# TODO Lots of tests assume that these are called to initialize the\u001b[39;00m\n\u001b[32m    637\u001b[39m \u001b[38;5;66;03m# mappings to default values on class initialization. I'd prefer to\u001b[39;00m\n\u001b[32m    638\u001b[39m \u001b[38;5;66;03m# move away from that and only have a mapping when explicitly called.\u001b[39;00m\n\u001b[32m    639\u001b[39m \u001b[38;5;28;01mfor\u001b[39;00m var \u001b[38;5;129;01min\u001b[39;00m [\u001b[33m\"\u001b[39m\u001b[33mhue\u001b[39m\u001b[33m\"\u001b[39m, \u001b[33m\"\u001b[39m\u001b[33msize\u001b[39m\u001b[33m\"\u001b[39m, \u001b[33m\"\u001b[39m\u001b[33mstyle\u001b[39m\u001b[33m\"\u001b[39m]:\n",
      "\u001b[36mFile \u001b[39m\u001b[32m/scratch/rodrigo.freitas/remy-schedulers/.venv/lib/python3.13/site-packages/seaborn/_base.py:679\u001b[39m, in \u001b[36mVectorPlotter.assign_variables\u001b[39m\u001b[34m(self, data, variables)\u001b[39m\n\u001b[32m    674\u001b[39m \u001b[38;5;28;01melse\u001b[39;00m:\n\u001b[32m    675\u001b[39m     \u001b[38;5;66;03m# When dealing with long-form input, use the newer PlotData\u001b[39;00m\n\u001b[32m    676\u001b[39m     \u001b[38;5;66;03m# object (internal but introduced for the objects interface)\u001b[39;00m\n\u001b[32m    677\u001b[39m     \u001b[38;5;66;03m# to centralize / standardize data consumption logic.\u001b[39;00m\n\u001b[32m    678\u001b[39m     \u001b[38;5;28mself\u001b[39m.input_format = \u001b[33m\"\u001b[39m\u001b[33mlong\u001b[39m\u001b[33m\"\u001b[39m\n\u001b[32m--> \u001b[39m\u001b[32m679\u001b[39m     plot_data = \u001b[43mPlotData\u001b[49m\u001b[43m(\u001b[49m\u001b[43mdata\u001b[49m\u001b[43m,\u001b[49m\u001b[43m \u001b[49m\u001b[43mvariables\u001b[49m\u001b[43m)\u001b[49m\n\u001b[32m    680\u001b[39m     frame = plot_data.frame\n\u001b[32m    681\u001b[39m     names = plot_data.names\n",
      "\u001b[36mFile \u001b[39m\u001b[32m/scratch/rodrigo.freitas/remy-schedulers/.venv/lib/python3.13/site-packages/seaborn/_core/data.py:58\u001b[39m, in \u001b[36mPlotData.__init__\u001b[39m\u001b[34m(self, data, variables)\u001b[39m\n\u001b[32m     51\u001b[39m \u001b[38;5;28;01mdef\u001b[39;00m\u001b[38;5;250m \u001b[39m\u001b[34m__init__\u001b[39m(\n\u001b[32m     52\u001b[39m     \u001b[38;5;28mself\u001b[39m,\n\u001b[32m     53\u001b[39m     data: DataSource,\n\u001b[32m     54\u001b[39m     variables: \u001b[38;5;28mdict\u001b[39m[\u001b[38;5;28mstr\u001b[39m, VariableSpec],\n\u001b[32m     55\u001b[39m ):\n\u001b[32m     57\u001b[39m     data = handle_data_source(data)\n\u001b[32m---> \u001b[39m\u001b[32m58\u001b[39m     frame, names, ids = \u001b[38;5;28;43mself\u001b[39;49m\u001b[43m.\u001b[49m\u001b[43m_assign_variables\u001b[49m\u001b[43m(\u001b[49m\u001b[43mdata\u001b[49m\u001b[43m,\u001b[49m\u001b[43m \u001b[49m\u001b[43mvariables\u001b[49m\u001b[43m)\u001b[49m\n\u001b[32m     60\u001b[39m     \u001b[38;5;28mself\u001b[39m.frame = frame\n\u001b[32m     61\u001b[39m     \u001b[38;5;28mself\u001b[39m.names = names\n",
      "\u001b[36mFile \u001b[39m\u001b[32m/scratch/rodrigo.freitas/remy-schedulers/.venv/lib/python3.13/site-packages/seaborn/_core/data.py:232\u001b[39m, in \u001b[36mPlotData._assign_variables\u001b[39m\u001b[34m(self, data, variables)\u001b[39m\n\u001b[32m    230\u001b[39m     \u001b[38;5;28;01melse\u001b[39;00m:\n\u001b[32m    231\u001b[39m         err += \u001b[33m\"\u001b[39m\u001b[33mAn entry with this name does not appear in `data`.\u001b[39m\u001b[33m\"\u001b[39m\n\u001b[32m--> \u001b[39m\u001b[32m232\u001b[39m     \u001b[38;5;28;01mraise\u001b[39;00m \u001b[38;5;167;01mValueError\u001b[39;00m(err)\n\u001b[32m    234\u001b[39m \u001b[38;5;28;01melse\u001b[39;00m:\n\u001b[32m    235\u001b[39m \n\u001b[32m    236\u001b[39m     \u001b[38;5;66;03m# Otherwise, assume the value somehow represents data\u001b[39;00m\n\u001b[32m    237\u001b[39m \n\u001b[32m    238\u001b[39m     \u001b[38;5;66;03m# Ignore empty data structures\u001b[39;00m\n\u001b[32m    239\u001b[39m     \u001b[38;5;28;01mif\u001b[39;00m \u001b[38;5;28misinstance\u001b[39m(val, Sized) \u001b[38;5;129;01mand\u001b[39;00m \u001b[38;5;28mlen\u001b[39m(val) == \u001b[32m0\u001b[39m:\n",
      "\u001b[31mValueError\u001b[39m: Could not interpret value `tb_time_mean` for `y`. An entry with this name does not appear in `data`."
     ]
    },
    {
     "data": {
      "text/plain": [
       "<Figure size 640x480 with 0 Axes>"
      ]
     },
     "metadata": {},
     "output_type": "display_data"
    }
   ],
   "source": [
    "import numpy as np\n",
    "import pandas as pd\n",
    "import seaborn as sns\n",
    "import matplotlib.pyplot as plt\n",
    "\n",
    "# 1) bootstrap CI\n",
    "def bootstrap_ci(series, n_bootstrap=1000, ci=95):\n",
    "    boot_means = np.random.choice(series, (n_bootstrap, len(series)), replace=True).mean(axis=1)\n",
    "    lower = np.percentile(boot_means, (100 - ci) / 2)\n",
    "    upper = np.percentile(boot_means, 100 - (100 - ci) / 2)\n",
    "    return pd.Series({'mean': series.mean(), 'ci_lower': lower, 'ci_upper': upper})\n",
    "\n",
    "# 2) group and apply\n",
    "group_fields = ['name', 'node_count', 'iter', 'ompc_tb_iter_num', 'image', 'type', 'tb_path']\n",
    "float_fields = ['tb_time', 'sched_time']\n",
    "\n",
    "grouped = (\n",
    "    df_bench\n",
    "    .groupby(group_fields)[float_fields]\n",
    "    .apply(lambda df: df.apply(bootstrap_ci))\n",
    "    .reset_index()\n",
    ")\n",
    "\n",
    "# 3) correct flatten\n",
    "grouped.columns = [\n",
    "    f\"{c[0]}_{c[1]}\" if isinstance(c, tuple) else c\n",
    "    for c in grouped.columns\n",
    "]\n",
    "\n",
    "# sanity check\n",
    "print(grouped.columns.tolist())\n",
    "\n",
    "# 4) plotting function\n",
    "def plot_ci_line(data, x, y_mean, y_ci_lower, y_ci_upper, label):\n",
    "    sns.lineplot(data=data, x=x, y=y_mean, label=label)\n",
    "    plt.fill_between(\n",
    "        data[x],\n",
    "        data[y_ci_lower],\n",
    "        data[y_ci_upper],\n",
    "        alpha=0.3\n",
    "    )\n",
    "\n",
    "# 5) draw\n",
    "for metric in ['tb_time', 'sched_time']:\n",
    "    plt.figure()\n",
    "    plot_ci_line(\n",
    "        grouped,\n",
    "        x='node_count',\n",
    "        y_mean=f'{metric}_mean',\n",
    "        y_ci_lower=f'{metric}_ci_lower',\n",
    "        y_ci_upper=f'{metric}_ci_upper',\n",
    "        label=metric\n",
    "    )\n",
    "    plt.title(f'{metric} vs node_count (95% bootstrap CI)')\n",
    "    plt.xlabel('node_count')\n",
    "    plt.ylabel(f'{metric} (seconds)')\n",
    "    plt.grid(True)\n",
    "    plt.legend()\n",
    "    plt.savefig(f'plots/{metric}_vs_node_count.pdf')\n",
    "    plt.show()\n"
   ]
  }
 ],
 "metadata": {
  "kernelspec": {
   "display_name": ".venv",
   "language": "python",
   "name": "python3"
  },
  "language_info": {
   "codemirror_mode": {
    "name": "ipython",
    "version": 3
   },
   "file_extension": ".py",
   "mimetype": "text/x-python",
   "name": "python",
   "nbconvert_exporter": "python",
   "pygments_lexer": "ipython3",
   "version": "3.13.1"
  }
 },
 "nbformat": 4,
 "nbformat_minor": 2
}
