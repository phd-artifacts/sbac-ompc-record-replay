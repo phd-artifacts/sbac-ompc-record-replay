{
 "cells": [
  {
   "cell_type": "code",
   "execution_count": 6,
   "metadata": {
    "execution": {
     "iopub.execute_input": "2025-06-10T03:50:18.144456Z",
     "iopub.status.busy": "2025-06-10T03:50:18.144002Z",
     "iopub.status.idle": "2025-06-10T03:50:18.147993Z",
     "shell.execute_reply": "2025-06-10T03:50:18.147406Z"
    }
   },
   "outputs": [],
   "source": [
    "\n",
    "# Default locations if parameter not passed\n",
    "benchmark_data_path = \"/scratch/rodrigo.freitas/remy-schedulers/tb-compare.pkl\"\n"
   ]
  },
  {
   "cell_type": "code",
   "execution_count": 7,
   "metadata": {
    "execution": {
     "iopub.execute_input": "2025-06-10T03:50:18.150353Z",
     "iopub.status.busy": "2025-06-10T03:50:18.149960Z",
     "iopub.status.idle": "2025-06-10T03:50:21.178550Z",
     "shell.execute_reply": "2025-06-10T03:50:21.177898Z"
    }
   },
   "outputs": [],
   "source": [
    "import pandas as pd\n",
    "import numpy as np\n",
    "import matplotlib.pyplot as plt\n",
    "import pickle\n",
    "from rich import print as rprint\n",
    "import seaborn as sns\n",
    "import os\n",
    "from scipy.stats import bootstrap\n",
    "\n",
    "benchmark_data = pickle.load(open(benchmark_data_path, \"rb\"))\n",
    "\n",
    "df = pd.DataFrame(benchmark_data[\"dataframe\"])\n",
    "\n",
    "sns.set_theme()\n",
    "\n",
    "colors = [\n",
    "    \"#7f7f7f\",  # grey\n",
    "    \"#621dac\",  # main purple\n",
    "    \"#c5702d\",  # orange\n",
    "    \"#000000\",  # black,\n",
    "    \"#099892\",  # teal\n",
    "    \"#ffd400\",  # yellow\n",
    "    \"#7e57c4\",  # pink/purple,\n",
    "]\n",
    "colors_backup = colors.copy()\n",
    "\n",
    "def calculate_bootstrap_error(data):\n",
    "    n_runs = benchmark_data[\"config\"].metadata.runs\n",
    "    if n_runs < 2:\n",
    "        return 0\n",
    "    res = bootstrap(\n",
    "        (data,), np.mean, confidence_level=0.95, n_resamples=1000, method=\"basic\"\n",
    "    )\n",
    "    return res.standard_error"
   ]
  },
  {
   "cell_type": "code",
   "execution_count": 12,
   "metadata": {},
   "outputs": [
    {
     "name": "stdout",
     "output_type": "stream",
     "text": [
      "Benchmarks found: ['tb-compare']\n",
      "Index(['name', 'iter', 'full_output', 'tb_path', 'image', 'hosts',\n",
      "       'ompc_tb_iter_num', 'tb-time', 'type', 'node_count', 'time'],\n",
      "      dtype='object')\n",
      "         name   iter                                        full_output  \\\n",
      "0  tb-compare   1000  [1749581463.931383] [sorgan-cpu1:236584:0]    ...   \n",
      "1  tb-compare   1000  [1749581466.834971] [sorgan-cpu1:236845:0]    ...   \n",
      "2  tb-compare  10000  [1749581467.543674] [sorgan-cpu1:236965:0]    ...   \n",
      "3  tb-compare  10000  [1749581468.240650] [sorgan-cpu1:237088:0]    ...   \n",
      "4  tb-compare   1000  [1749581468.938838] [sorgan-cpu1:237207:0]    ...   \n",
      "\n",
      "        tb_path               image  \\\n",
      "0  tb-main-loop  scheduler-main.sif   \n",
      "1  tb-main-loop  scheduler-main.sif   \n",
      "2  tb-main-loop  scheduler-main.sif   \n",
      "3  tb-main-loop  scheduler-main.sif   \n",
      "4  tb-main-loop  scheduler-main.sif   \n",
      "\n",
      "                                             hosts  ompc_tb_iter_num  \\\n",
      "0  sorgan-cpu1,sorgan-cpu2,sorgan-cpu3,sorgan-cpu4                10   \n",
      "1  sorgan-cpu1,sorgan-cpu2,sorgan-cpu3,sorgan-cpu4                10   \n",
      "2  sorgan-cpu1,sorgan-cpu2,sorgan-cpu3,sorgan-cpu4                10   \n",
      "3  sorgan-cpu1,sorgan-cpu2,sorgan-cpu3,sorgan-cpu4                10   \n",
      "4  sorgan-cpu1,sorgan-cpu2,sorgan-cpu3,sorgan-cpu4                10   \n",
      "\n",
      "    tb-time type  node_count      time  \n",
      "0  0.236044  fft           1  0.706640  \n",
      "1  0.242522  fft           1  0.697195  \n",
      "2  0.234584  fft           1  0.695917  \n",
      "3  0.236863  fft           1  0.697394  \n",
      "4  0.645873  fft           2  1.353310  \n"
     ]
    }
   ],
   "source": [
    "bench_names = df[\"name\"].unique()\n",
    "print(f\"Benchmarks found: {bench_names}\")\n",
    "run_metadata = benchmark_data[\"config\"].applications\n",
    "n_runs = benchmark_data[\"config\"].metadata.runs\n",
    "\n",
    "df_bench = df[df[\"name\"] == 'tb-compare']\n",
    "\n",
    "\n",
    "print(df_bench.columns)\n",
    "print(df_bench.head())\n"
   ]
  },
  {
   "cell_type": "code",
   "execution_count": 13,
   "metadata": {},
   "outputs": [
    {
     "name": "stdout",
     "output_type": "stream",
     "text": [
      "Full output of the first row:\n",
      "[1749581463.931383] [sorgan-cpu1:236584:0]        ib_verbs.h:87   UCX  ERROR ibv_exp_query_device(mlx5_0) returned 95: Operation not supported\n",
      "Running Task Benchmark\n",
      "  Configuration:\n",
      "    Task Graph 1:\n",
      "      Time Steps: 32\n",
      "      Max Width: 32\n",
      "      Dependence Type: fft\n",
      "      Radix: 3\n",
      "      Period: 0\n",
      "      Fraction Connected: 0.250000\n",
      "      Kernel:\n",
      "        Type: compute_bound\n",
      "        Iterations: 1000\n",
      "        Samples: 16\n",
      "        Imbalance: 0.000000\n",
      "      Output Bytes: 16\n",
      "      Scratch Bytes: 0\n",
      "Loop 0 : Elapsed time : 0.024403\n",
      "Loop 1 : Elapsed time : 0.022082\n",
      "Loop 2 : Elapsed time : 0.022360\n",
      "Loop 3 : Elapsed time : 0.023046\n",
      "Loop 4 : Elapsed time : 0.022887\n",
      "Loop 5 : Elapsed time : 0.022918\n",
      "Loop 6 : Elapsed time : 0.023012\n",
      "Loop 7 : Elapsed time : 0.022698\n",
      "Loop 8 : Elapsed time : 0.023097\n",
      "Loop 9 : Elapsed time : 0.022702\n",
      "Total Tasks 1024\n",
      "Total Dependencies 2666\n",
      "Total FLOPs 131137536\n",
      "Total Bytes 0\n",
      "Elapsed Time 2.360439e-01 seconds\n",
      "FLOP/s 5.555641e+08\n",
      "B/s 0.000000e+00\n",
      "\n",
      "\n"
     ]
    }
   ],
   "source": [
    "# print the field full_output of the first row\n",
    "print(\"Full output of the first row:\")\n",
    "print(df_bench.iloc[0][\"full_output\"])"
   ]
  }
 ],
 "metadata": {
  "kernelspec": {
   "display_name": ".venv",
   "language": "python",
   "name": "python3"
  },
  "language_info": {
   "codemirror_mode": {
    "name": "ipython",
    "version": 3
   },
   "file_extension": ".py",
   "mimetype": "text/x-python",
   "name": "python",
   "nbconvert_exporter": "python",
   "pygments_lexer": "ipython3",
   "version": "3.13.1"
  }
 },
 "nbformat": 4,
 "nbformat_minor": 2
}
