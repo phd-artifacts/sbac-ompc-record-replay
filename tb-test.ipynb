{
 "cells": [
  {
   "cell_type": "code",
   "execution_count": 1,
   "metadata": {
    "execution": {
     "iopub.execute_input": "2025-06-10T03:50:18.144456Z",
     "iopub.status.busy": "2025-06-10T03:50:18.144002Z",
     "iopub.status.idle": "2025-06-10T03:50:18.147993Z",
     "shell.execute_reply": "2025-06-10T03:50:18.147406Z"
    }
   },
   "outputs": [],
   "source": [
    "\n",
    "# Default locations if parameter not passed\n",
    "benchmark_data_path = \"/scratch/rodrigo.freitas/remy-schedulers/tb-compare.pkl\"\n",
    "output_folder = \"/scratch/rodrigo.freitas/remy-schedulers/output-tb-test\"\n"
   ]
  },
  {
   "cell_type": "code",
   "execution_count": 2,
   "metadata": {
    "execution": {
     "iopub.execute_input": "2025-06-10T03:50:18.150353Z",
     "iopub.status.busy": "2025-06-10T03:50:18.149960Z",
     "iopub.status.idle": "2025-06-10T03:50:21.178550Z",
     "shell.execute_reply": "2025-06-10T03:50:21.177898Z"
    }
   },
   "outputs": [
    {
     "data": {
      "text/html": [
       "<pre style=\"white-space:pre;overflow-x:auto;line-height:normal;font-family:Menlo,'DejaVu Sans Mono',consolas,'Courier New',monospace\"><span style=\"color: #800080; text-decoration-color: #800080; font-weight: bold\">Index</span><span style=\"font-weight: bold\">([</span><span style=\"color: #008000; text-decoration-color: #008000\">'name'</span>, <span style=\"color: #008000; text-decoration-color: #008000\">'hosts'</span>, <span style=\"color: #008000; text-decoration-color: #008000\">'type'</span>, <span style=\"color: #008000; text-decoration-color: #008000\">'iter'</span>, <span style=\"color: #008000; text-decoration-color: #008000\">'node_count'</span>, <span style=\"color: #008000; text-decoration-color: #008000\">'full_output'</span>, <span style=\"color: #008000; text-decoration-color: #008000\">'tb_path'</span>,\n",
       "       <span style=\"color: #008000; text-decoration-color: #008000\">'tb-time'</span>, <span style=\"color: #008000; text-decoration-color: #008000\">'image'</span>, <span style=\"color: #008000; text-decoration-color: #008000\">'time'</span><span style=\"font-weight: bold\">]</span>,\n",
       "      <span style=\"color: #808000; text-decoration-color: #808000\">dtype</span>=<span style=\"color: #008000; text-decoration-color: #008000\">'object'</span><span style=\"font-weight: bold\">)</span>\n",
       "</pre>\n"
      ],
      "text/plain": [
       "\u001b[1;35mIndex\u001b[0m\u001b[1m(\u001b[0m\u001b[1m[\u001b[0m\u001b[32m'name'\u001b[0m, \u001b[32m'hosts'\u001b[0m, \u001b[32m'type'\u001b[0m, \u001b[32m'iter'\u001b[0m, \u001b[32m'node_count'\u001b[0m, \u001b[32m'full_output'\u001b[0m, \u001b[32m'tb_path'\u001b[0m,\n",
       "       \u001b[32m'tb-time'\u001b[0m, \u001b[32m'image'\u001b[0m, \u001b[32m'time'\u001b[0m\u001b[1m]\u001b[0m,\n",
       "      \u001b[33mdtype\u001b[0m=\u001b[32m'object'\u001b[0m\u001b[1m)\u001b[0m\n"
      ]
     },
     "metadata": {},
     "output_type": "display_data"
    },
    {
     "data": {
      "text/html": [
       "<pre style=\"white-space:pre;overflow-x:auto;line-height:normal;font-family:Menlo,'DejaVu Sans Mono',consolas,'Courier New',monospace\">         name                    hosts type  iter  node_count  \\\n",
       "<span style=\"color: #008080; text-decoration-color: #008080; font-weight: bold\">0</span>  tb-compare  sorgan-cpu1,sorgan-cpu2  fft  <span style=\"color: #008080; text-decoration-color: #008080; font-weight: bold\">1000</span>           <span style=\"color: #008080; text-decoration-color: #008080; font-weight: bold\">1</span>   \n",
       "\n",
       "                                         full_output         tb_path  \\\n",
       "<span style=\"color: #008080; text-decoration-color: #008080; font-weight: bold\">0</span>  <span style=\"font-weight: bold\">[</span><span style=\"color: #008080; text-decoration-color: #008080; font-weight: bold\">1749528216.276838</span><span style=\"font-weight: bold\">]</span> <span style=\"font-weight: bold\">[</span>sorgan-cpu<span style=\"color: #00ff00; text-decoration-color: #00ff00; font-weight: bold\">1:153370:0</span><span style=\"font-weight: bold\">]</span>    <span style=\"color: #808000; text-decoration-color: #808000\">...</span>  tb-tdg-no-loop   \n",
       "\n",
       "    tb-time           image      time  \n",
       "<span style=\"color: #008080; text-decoration-color: #008080; font-weight: bold\">0</span>  <span style=\"color: #008080; text-decoration-color: #008080; font-weight: bold\">0.163592</span>  improv-<span style=\"color: #008080; text-decoration-color: #008080; font-weight: bold\">144.</span>sif  <span style=\"color: #008080; text-decoration-color: #008080; font-weight: bold\">0.668982</span>  \n",
       "</pre>\n"
      ],
      "text/plain": [
       "         name                    hosts type  iter  node_count  \\\n",
       "\u001b[1;36m0\u001b[0m  tb-compare  sorgan-cpu1,sorgan-cpu2  fft  \u001b[1;36m1000\u001b[0m           \u001b[1;36m1\u001b[0m   \n",
       "\n",
       "                                         full_output         tb_path  \\\n",
       "\u001b[1;36m0\u001b[0m  \u001b[1m[\u001b[0m\u001b[1;36m1749528216.276838\u001b[0m\u001b[1m]\u001b[0m \u001b[1m[\u001b[0msorgan-cpu\u001b[1;92m1:1533\u001b[0m\u001b[1;92m70:0\u001b[0m\u001b[1m]\u001b[0m    \u001b[33m...\u001b[0m  tb-tdg-no-loop   \n",
       "\n",
       "    tb-time           image      time  \n",
       "\u001b[1;36m0\u001b[0m  \u001b[1;36m0.163592\u001b[0m  improv-\u001b[1;36m144.\u001b[0msif  \u001b[1;36m0.668982\u001b[0m  \n"
      ]
     },
     "metadata": {},
     "output_type": "display_data"
    },
    {
     "data": {
      "text/html": [
       "<pre style=\"white-space:pre;overflow-x:auto;line-height:normal;font-family:Menlo,'DejaVu Sans Mono',consolas,'Courier New',monospace\">         name                    hosts type  iter  node_count  \\\n",
       "<span style=\"color: #008080; text-decoration-color: #008080; font-weight: bold\">0</span>  tb-compare  sorgan-cpu1,sorgan-cpu2  fft  <span style=\"color: #008080; text-decoration-color: #008080; font-weight: bold\">1000</span>           <span style=\"color: #008080; text-decoration-color: #008080; font-weight: bold\">1</span>   \n",
       "\n",
       "                                         full_output         tb_path  \\\n",
       "<span style=\"color: #008080; text-decoration-color: #008080; font-weight: bold\">0</span>  <span style=\"font-weight: bold\">[</span><span style=\"color: #008080; text-decoration-color: #008080; font-weight: bold\">1749528216.276838</span><span style=\"font-weight: bold\">]</span> <span style=\"font-weight: bold\">[</span>sorgan-cpu<span style=\"color: #00ff00; text-decoration-color: #00ff00; font-weight: bold\">1:153370:0</span><span style=\"font-weight: bold\">]</span>    <span style=\"color: #808000; text-decoration-color: #808000\">...</span>  tb-tdg-no-loop   \n",
       "\n",
       "    tb-time           image      time  \n",
       "<span style=\"color: #008080; text-decoration-color: #008080; font-weight: bold\">0</span>  <span style=\"color: #008080; text-decoration-color: #008080; font-weight: bold\">0.163592</span>  improv-<span style=\"color: #008080; text-decoration-color: #008080; font-weight: bold\">144.</span>sif  <span style=\"color: #008080; text-decoration-color: #008080; font-weight: bold\">0.668982</span>  \n",
       "</pre>\n"
      ],
      "text/plain": [
       "         name                    hosts type  iter  node_count  \\\n",
       "\u001b[1;36m0\u001b[0m  tb-compare  sorgan-cpu1,sorgan-cpu2  fft  \u001b[1;36m1000\u001b[0m           \u001b[1;36m1\u001b[0m   \n",
       "\n",
       "                                         full_output         tb_path  \\\n",
       "\u001b[1;36m0\u001b[0m  \u001b[1m[\u001b[0m\u001b[1;36m1749528216.276838\u001b[0m\u001b[1m]\u001b[0m \u001b[1m[\u001b[0msorgan-cpu\u001b[1;92m1:1533\u001b[0m\u001b[1;92m70:0\u001b[0m\u001b[1m]\u001b[0m    \u001b[33m...\u001b[0m  tb-tdg-no-loop   \n",
       "\n",
       "    tb-time           image      time  \n",
       "\u001b[1;36m0\u001b[0m  \u001b[1;36m0.163592\u001b[0m  improv-\u001b[1;36m144.\u001b[0msif  \u001b[1;36m0.668982\u001b[0m  \n"
      ]
     },
     "metadata": {},
     "output_type": "display_data"
    }
   ],
   "source": [
    "import pandas as pd\n",
    "import numpy as np\n",
    "import matplotlib.pyplot as plt\n",
    "import pickle\n",
    "from rich import print as rprint\n",
    "import seaborn as sns\n",
    "import os\n",
    "from scipy.stats import bootstrap\n",
    "\n",
    "benchmark_data = pickle.load(open(benchmark_data_path, \"rb\"))\n",
    "\n",
    "df = pd.DataFrame(benchmark_data[\"dataframe\"])\n",
    "\n",
    "# create the output folder if it does not exist\n",
    "if not os.path.exists(output_folder):\n",
    "    os.makedirs(output_folder)\n",
    "\n",
    "\n",
    "rprint(df.columns)\n",
    "rprint(df.head())\n",
    "rprint(df.tail())"
   ]
  },
  {
   "cell_type": "code",
   "execution_count": 3,
   "metadata": {
    "execution": {
     "iopub.execute_input": "2025-06-10T03:50:21.227836Z",
     "iopub.status.busy": "2025-06-10T03:50:21.227270Z",
     "iopub.status.idle": "2025-06-10T03:50:21.232543Z",
     "shell.execute_reply": "2025-06-10T03:50:21.231912Z"
    }
   },
   "outputs": [],
   "source": [
    "sns.set_theme()\n",
    "\n",
    "colors = [\n",
    "    \"#7f7f7f\",  # grey\n",
    "    \"#621dac\",  # main purple\n",
    "    \"#c5702d\",  # orange\n",
    "    \"#000000\",  # black,\n",
    "    \"#099892\",  # teal\n",
    "    \"#ffd400\",  # yellow\n",
    "    \"#7e57c4\",  # pink/purple,\n",
    "]\n",
    "colors_backup = colors.copy()"
   ]
  },
  {
   "cell_type": "code",
   "execution_count": 4,
   "metadata": {
    "execution": {
     "iopub.execute_input": "2025-06-10T03:50:21.234916Z",
     "iopub.status.busy": "2025-06-10T03:50:21.234513Z",
     "iopub.status.idle": "2025-06-10T03:50:21.241885Z",
     "shell.execute_reply": "2025-06-10T03:50:21.241066Z"
    }
   },
   "outputs": [],
   "source": [
    "def calculate_bootstrap_error(data):\n",
    "    n_runs = benchmark_data[\"config\"].metadata.runs\n",
    "    if n_runs < 2:\n",
    "        return 0\n",
    "    res = bootstrap(\n",
    "        (data,), np.mean, confidence_level=0.95, n_resamples=1000, method=\"basic\"\n",
    "    )\n",
    "    return res.standard_error"
   ]
  },
  {
   "cell_type": "code",
   "execution_count": 5,
   "metadata": {
    "execution": {
     "iopub.execute_input": "2025-06-10T03:50:21.244596Z",
     "iopub.status.busy": "2025-06-10T03:50:21.244276Z",
     "iopub.status.idle": "2025-06-10T03:50:21.819708Z",
     "shell.execute_reply": "2025-06-10T03:50:21.818785Z"
    }
   },
   "outputs": [
    {
     "name": "stdout",
     "output_type": "stream",
     "text": [
      "Benchmark: tb-compare - Runs: 1\n",
      "--- Row 0 ---\n",
      "name: tb-compare\n",
      "hosts: sorgan-cpu1,sorgan-cpu2\n",
      "type: fft\n",
      "iter: 1000\n",
      "node_count: 1\n",
      "full_output: [1749528216.276838] [sorgan-cpu1:153370:0]        ib_verbs.h:87   UCX  ERROR ibv_exp_query_device(mlx5_0) returned 95: Operation not supported\n",
      "Running Task Benchmark\n",
      "  Configuration:\n",
      "    Task Graph 1:\n",
      "      Time Steps: 32\n",
      "      Max Width: 32\n",
      "      Dependence Type: fft\n",
      "      Radix: 3\n",
      "      Period: 0\n",
      "      Fraction Connected: 0.250000\n",
      "      Kernel:\n",
      "        Type: compute_bound\n",
      "        Iterations: 1000\n",
      "        Samples: 16\n",
      "        Imbalance: 0.000000\n",
      "      Output Bytes: 16\n",
      "      Scratch Bytes: 0\n",
      "Interpolation : 25137\n",
      "Scheduling : 41935\n",
      "Loop 0 : Elapsed time : 0.101880\n",
      "Loop 1 : Elapsed time : 0.013889\n",
      "Loop 2 : Elapsed time : 0.013900\n",
      "Loop 3 : Elapsed time : 0.014167\n",
      "Loop 4 : Elapsed time : 0.014145\n",
      "Total Tasks 1024\n",
      "Total Dependencies 2666\n",
      "Total FLOPs 131137536\n",
      "Total Bytes 0\n",
      "Elapsed Time 1.635921e-01 seconds\n",
      "FLOP/s 8.016129e+08\n",
      "B/s 0.000000e+00\n",
      "\n",
      "\n",
      "tb_path: tb-tdg-no-loop\n",
      "tb-time: 0.16359210000000002\n",
      "image: improv-144.sif\n",
      "time: 0.6689821790205315\n",
      "\n"
     ]
    }
   ],
   "source": [
    "bench_names = df[\"name\"].unique()\n",
    "run_metadata = benchmark_data[\"config\"].applications\n",
    "\n",
    "for bench in bench_names:\n",
    "    bench_metadata = run_metadata[bench]\n",
    "    n_runs = benchmark_data[\"config\"].metadata.runs\n",
    "    print(f\"Benchmark: {bench} - Runs: {n_runs}\")\n",
    "    # print(bench_metadata)\n",
    "    df_bench = df[df[\"name\"] == bench]\n",
    "    for idx, row in df_bench.iterrows():\n",
    "        print(f\"--- Row {idx} ---\")\n",
    "        for col, val in row.items():\n",
    "            print(f\"{col}: {val}\")   # printing val directly never truncates\n",
    "        print()\n",
    "\n",
    "\n"
   ]
  }
 ],
 "metadata": {
  "kernelspec": {
   "display_name": ".venv",
   "language": "python",
   "name": "python3"
  },
  "language_info": {
   "codemirror_mode": {
    "name": "ipython",
    "version": 3
   },
   "file_extension": ".py",
   "mimetype": "text/x-python",
   "name": "python",
   "nbconvert_exporter": "python",
   "pygments_lexer": "ipython3",
   "version": "3.13.1"
  }
 },
 "nbformat": 4,
 "nbformat_minor": 2
}
